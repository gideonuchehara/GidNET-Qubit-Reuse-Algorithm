{
 "cells": [
  {
   "cell_type": "code",
   "execution_count": null,
   "id": "0eb11fde-65e3-4aa5-8c85-4bc25bdb5012",
   "metadata": {},
   "outputs": [],
   "source": []
  },
  {
   "cell_type": "code",
   "execution_count": 1,
   "id": "6f3ea8ce-c53c-4aa1-a1d5-878b2efc437b",
   "metadata": {
    "tags": []
   },
   "outputs": [],
   "source": [
    "from gidnet_qubit_reuse_algorithm.gidnet_qra import (safe_eval,\n",
    "                                                     create_qiskit_and_qnet_GRCS_circuits,\n",
    "                                                     compute_qubit_reuse_sets, \n",
    "                                                    compile_dynamic_circuit)\n",
    "import time"
   ]
  },
  {
   "cell_type": "code",
   "execution_count": 24,
   "id": "153b9e29-8307-45c1-b459-76018dbecfaf",
   "metadata": {
    "tags": []
   },
   "outputs": [
    {
     "name": "stdout",
     "output_type": "stream",
     "text": [
      "circuit 1 running\n",
      "16\n",
      "\n",
      "16\n",
      "\n",
      "16\n",
      "\n",
      "16\n",
      "\n",
      "16\n",
      "\n",
      "16\n",
      "\n",
      "16\n",
      "\n"
     ]
    }
   ],
   "source": [
    "circuit_sizes = [\"4x4\", \"4x5\", \"5x5\", \"5x6\", \"6x6\", \"6x7\", \"7x7\", \"7x8\", \"8x8\", \"8x9\",\n",
    "                \"9x9\", \"9x10\", \"10x10\", \"10x11\", \"11x11\", \"11x12\", \"12x12\"]\n",
    "\n",
    "circuit_sizes = [\"4x4\"]\n",
    "random_shots = 1 # shots for qnet algorithm\n",
    "\n",
    "directory_path = \"../data\"\n",
    "cycle_num = 13\n",
    "\n",
    "qnet_average_time = []\n",
    "qnet_std_time = []\n",
    "qnet_qubit_width = []\n",
    "\n",
    "for i, num_qubits in enumerate(circuit_sizes):\n",
    "    print(\"circuit\", i+1, \"running\")\n",
    "    qiskit_circuit, qnet_circuit = create_qiskit_and_qnet_GRCS_circuits(num_qubits, cycle_num, directory_path)\n",
    "    # qnet_time = %timeit -o qnet_circuit.reduce(method=\"random_greedy\", shots=random_shots)\n",
    "    \n",
    "    qnet_time = []\n",
    "    for _ in range(7):\n",
    "        qiskit_circuit, qnet_circuit = create_qiskit_and_qnet_GRCS_circuits(num_qubits, cycle_num, directory_path)\n",
    "        print(qnet_circuit.width)\n",
    "        print()\n",
    "        start_time = time.time()\n",
    "        qnet_circuit.reduce(method=\"random_greedy\", shots=random_shots)\n",
    "        stop_time = time.time()\n",
    "    \n",
    "        qnet_time.append(stop_time - start_time)\n",
    "\n",
    "    qnet_average_time.append(qnet_time)\n",
    "    # qnet_std_time.append(qnet_time.stdev)\n",
    "    qnet_qubit_width.append(qnet_circuit.width)\n"
   ]
  },
  {
   "cell_type": "code",
   "execution_count": 22,
   "id": "549d7949-5c2e-4700-b730-1a994687541b",
   "metadata": {
    "tags": []
   },
   "outputs": [
    {
     "data": {
      "text/plain": [
       "[[0.02554607391357422,\n",
       "  0.016710281372070312,\n",
       "  0.0024573802947998047,\n",
       "  0.0024700164794921875,\n",
       "  0.0029671192169189453,\n",
       "  0.0024826526641845703,\n",
       "  0.0022504329681396484]]"
      ]
     },
     "execution_count": 22,
     "metadata": {},
     "output_type": "execute_result"
    }
   ],
   "source": [
    "qnet_average_time"
   ]
  },
  {
   "cell_type": "code",
   "execution_count": 25,
   "id": "bc9329a4-8e5b-4c8e-aae9-035b7146ed4f",
   "metadata": {
    "tags": []
   },
   "outputs": [
    {
     "data": {
      "text/plain": [
       "[[0.014393329620361328,\n",
       "  0.02690887451171875,\n",
       "  0.015336751937866211,\n",
       "  0.014780998229980469,\n",
       "  0.013694286346435547,\n",
       "  0.013769149780273438,\n",
       "  0.01553201675415039]]"
      ]
     },
     "execution_count": 25,
     "metadata": {},
     "output_type": "execute_result"
    }
   ],
   "source": [
    "qnet_average_time"
   ]
  },
  {
   "cell_type": "code",
   "execution_count": 7,
   "id": "cefb35db-c9e2-484e-b4a6-1002c4424f05",
   "metadata": {
    "tags": []
   },
   "outputs": [],
   "source": [
    "x = qnet_average_time[0]"
   ]
  },
  {
   "cell_type": "code",
   "execution_count": 8,
   "id": "1af5f91d-61a6-4f32-b149-ecc9362ba402",
   "metadata": {
    "tags": []
   },
   "outputs": [
    {
     "data": {
      "text/plain": [
       "0.0657956939243013"
      ]
     },
     "execution_count": 8,
     "metadata": {},
     "output_type": "execute_result"
    }
   ],
   "source": [
    "x.average"
   ]
  },
  {
   "cell_type": "code",
   "execution_count": 9,
   "id": "53a39cce-3704-4b40-8333-4b0d74be7db4",
   "metadata": {
    "tags": []
   },
   "outputs": [
    {
     "data": {
      "text/plain": [
       "[2.05547478000517,\n",
       " 3.2786045729881153,\n",
       " 4.476276425004471,\n",
       " 6.1485335619945545,\n",
       " 8.651101613009814,\n",
       " 9.98574825200194,\n",
       " 11.461246542006847]"
      ]
     },
     "execution_count": 9,
     "metadata": {},
     "output_type": "execute_result"
    }
   ],
   "source": [
    "x.all_runs"
   ]
  },
  {
   "cell_type": "code",
   "execution_count": 10,
   "id": "6c3abaa2-22ba-4742-93e5-91843ca79397",
   "metadata": {
    "tags": []
   },
   "outputs": [
    {
     "data": {
      "text/plain": [
       "[0.0205547478000517,\n",
       " 0.032786045729881155,\n",
       " 0.04476276425004471,\n",
       " 0.06148533561994554,\n",
       " 0.08651101613009814,\n",
       " 0.0998574825200194,\n",
       " 0.11461246542006848]"
      ]
     },
     "execution_count": 10,
     "metadata": {},
     "output_type": "execute_result"
    }
   ],
   "source": [
    "x.timings"
   ]
  },
  {
   "cell_type": "code",
   "execution_count": 11,
   "id": "66e38a7a-e8e8-4fde-961b-6e94b62ba31b",
   "metadata": {
    "tags": []
   },
   "outputs": [
    {
     "data": {
      "text/plain": [
       "0.11461246542006848"
      ]
     },
     "execution_count": 11,
     "metadata": {},
     "output_type": "execute_result"
    }
   ],
   "source": [
    "x.worst"
   ]
  },
  {
   "cell_type": "code",
   "execution_count": 5,
   "id": "f0b36070-3fab-47b3-85be-90bba8e02309",
   "metadata": {
    "tags": []
   },
   "outputs": [
    {
     "data": {
      "text/plain": [
       "[0.1738264560699463]"
      ]
     },
     "execution_count": 5,
     "metadata": {},
     "output_type": "execute_result"
    }
   ],
   "source": [
    "qnet_average_time"
   ]
  },
  {
   "cell_type": "code",
   "execution_count": null,
   "id": "31b48ff5-43c1-4a14-8806-8dad362676a6",
   "metadata": {},
   "outputs": [],
   "source": []
  }
 ],
 "metadata": {
  "kernelspec": {
   "display_name": "phd-env",
   "language": "python",
   "name": "phd-env"
  },
  "language_info": {
   "codemirror_mode": {
    "name": "ipython",
    "version": 3
   },
   "file_extension": ".py",
   "mimetype": "text/x-python",
   "name": "python",
   "nbconvert_exporter": "python",
   "pygments_lexer": "ipython3",
   "version": "3.10.9"
  }
 },
 "nbformat": 4,
 "nbformat_minor": 5
}
