{
 "cells": [
  {
   "cell_type": "code",
   "execution_count": null,
   "id": "c1b985d8-19db-43ab-aa27-da6bf1cd6a37",
   "metadata": {},
   "outputs": [],
   "source": [
    "U0U_0"
   ]
  },
  {
   "cell_type": "code",
   "execution_count": 10,
   "id": "db27f605-a5c0-47cb-8da8-7ac080ad5c40",
   "metadata": {},
   "outputs": [
    {
     "data": {
      "text/latex": [
       "$x_y$"
      ],
      "text/plain": [
       "<IPython.core.display.Latex object>"
      ]
     },
     "metadata": {},
     "output_type": "display_data"
    },
    {
     "data": {
      "text/markdown": [
       "xyx_y"
      ],
      "text/plain": [
       "<IPython.core.display.Markdown object>"
      ]
     },
     "metadata": {},
     "output_type": "display_data"
    },
    {
     "data": {
      "text/html": [
       "xyx_y"
      ],
      "text/plain": [
       "<IPython.core.display.HTML object>"
      ]
     },
     "metadata": {},
     "output_type": "display_data"
    }
   ],
   "source": [
    "\n",
    "from IPython.display import Latex, Markdown, HTML\n",
    "display(Latex(\"xyx_y\"))\n",
    "display(Markdown(\"xyx_y\"))\n",
    "display(HTML(\"xyx_y\"))\n"
   ]
  },
  {
   "cell_type": "code",
   "execution_count": 6,
   "id": "37ecea60-46a1-4a77-86c2-712f091fcef3",
   "metadata": {},
   "outputs": [
    {
     "name": "stdout",
     "output_type": "stream",
     "text": [
      "Python 3.10.16\n"
     ]
    }
   ],
   "source": [
    "!python --version"
   ]
  },
  {
   "cell_type": "code",
   "execution_count": 5,
   "id": "17f58d0b-f151-4b2b-b8dd-307e73d4f845",
   "metadata": {},
   "outputs": [
    {
     "name": "stdout",
     "output_type": "stream",
     "text": [
      "Selected Jupyter core packages...\n",
      "IPython          : 8.32.0\n",
      "ipykernel        : 6.29.5\n",
      "ipywidgets       : 8.0.4\n",
      "jupyter_client   : 8.6.3\n",
      "jupyter_core     : 5.7.2\n",
      "jupyter_server   : 2.15.0\n",
      "jupyterlab       : 4.3.5\n",
      "nbclient         : 0.10.2\n",
      "nbconvert        : 7.16.6\n",
      "nbformat         : 5.10.4\n",
      "notebook         : 6.5.2\n",
      "qtconsole        : 5.4.0\n",
      "traitlets        : 5.14.3\n"
     ]
    }
   ],
   "source": [
    "!jupyter --version"
   ]
  },
  {
   "cell_type": "code",
   "execution_count": 3,
   "id": "8e44ea21-1935-495e-ba91-f83a45e4df6c",
   "metadata": {},
   "outputs": [
    {
     "name": "stdout",
     "output_type": "stream",
     "text": [
      "\\Delta G_0 = 1\n"
     ]
    }
   ],
   "source": [
    "print('\\\\Delta G_0 = 1')  # Escape \\ and use double backslash\n"
   ]
  },
  {
   "cell_type": "code",
   "execution_count": 4,
   "id": "cc84726c-dc51-440f-8016-50687c2bf886",
   "metadata": {},
   "outputs": [
    {
     "data": {
      "image/png": "[encoded data removed]",
      "text/plain": [
       "<Figure size 640x480 with 1 Axes>"
      ]
     },
     "metadata": {},
     "output_type": "display_data"
    }
   ],
   "source": [
    "import matplotlib.pyplot as plt\n",
    "\n",
    "fig, ax = plt.subplots()\n",
    "ax.text(0.5, 0.5, r'ΔG0=1\\Delta G_0 = 1', usetex=False)  # Disable LaTeX rendering\n",
    "plt.show()\n"
   ]
  },
  {
   "cell_type": "code",
   "execution_count": null,
   "id": "1ea54e53-8a14-4b9d-a408-194cf031426e",
   "metadata": {},
   "outputs": [],
   "source": []
  }
 ],
 "metadata": {
  "kernelspec": {
   "display_name": "gidnet",
   "language": "python",
   "name": "gidnet"
  },
  "language_info": {
   "codemirror_mode": {
    "name": "ipython",
    "version": 3
   },
   "file_extension": ".py",
   "mimetype": "text/x-python",
   "name": "python",
   "nbconvert_exporter": "python",
   "pygments_lexer": "ipython3",
   "version": "3.10.16"
  }
 },
 "nbformat": 4,
 "nbformat_minor": 5
}
