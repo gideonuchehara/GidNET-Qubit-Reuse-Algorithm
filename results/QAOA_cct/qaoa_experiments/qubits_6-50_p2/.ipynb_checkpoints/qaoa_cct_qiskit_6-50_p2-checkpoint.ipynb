{
 "cells": [
  {
   "cell_type": "code",
   "execution_count": null,
   "id": "47d0a271-8e6a-42dd-84ae-fa27a9378175",
   "metadata": {},
   "outputs": [],
   "source": []
  },
  {
   "cell_type": "code",
   "execution_count": 1,
   "id": "f611e0c0-5e15-46bd-aaa6-5060361a525f",
   "metadata": {
    "tags": []
   },
   "outputs": [],
   "source": [
    "from gidnet_qubit_reuse_algorithm.gidnet_qra import apply_qiskit_qubit_reuse, create_qiskit_and_qnet_QAOA_circuits\n",
    "import time"
   ]
  },
  {
   "cell_type": "code",
   "execution_count": null,
   "id": "890dab60-e5e6-4c45-8ba8-8ec9d122ff23",
   "metadata": {
    "tags": []
   },
   "outputs": [
    {
     "name": "stdout",
     "output_type": "stream",
     "text": [
      "circuit 1 running\n",
      "2.94 s ± 69 ms per loop (mean ± std. dev. of 7 runs, 1 loop each)\n",
      "2.93 s ± 286 ms per loop (mean ± std. dev. of 7 runs, 1 loop each)\n",
      "1min 17s ± 2.94 s per loop (mean ± std. dev. of 7 runs, 1 loop each)\n",
      "2.45 s ± 65.6 ms per loop (mean ± std. dev. of 7 runs, 1 loop each)\n",
      "2.46 s ± 45.8 ms per loop (mean ± std. dev. of 7 runs, 1 loop each)\n",
      "58.6 s ± 1.81 s per loop (mean ± std. dev. of 7 runs, 1 loop each)\n",
      "18.8 s ± 693 ms per loop (mean ± std. dev. of 7 runs, 1 loop each)\n",
      "1min 27s ± 2.79 s per loop (mean ± std. dev. of 7 runs, 1 loop each)\n",
      "2.35 s ± 32.1 ms per loop (mean ± std. dev. of 7 runs, 1 loop each)\n",
      "2.2 s ± 96.6 ms per loop (mean ± std. dev. of 7 runs, 1 loop each)\n",
      "5.46 s ± 35.3 ms per loop (mean ± std. dev. of 7 runs, 1 loop each)\n",
      "26.2 s ± 1.32 s per loop (mean ± std. dev. of 7 runs, 1 loop each)\n",
      "8.88 s ± 642 ms per loop (mean ± std. dev. of 7 runs, 1 loop each)\n",
      "10.7 s ± 536 ms per loop (mean ± std. dev. of 7 runs, 1 loop each)\n",
      "6.07 s ± 185 ms per loop (mean ± std. dev. of 7 runs, 1 loop each)\n",
      "25.6 s ± 473 ms per loop (mean ± std. dev. of 7 runs, 1 loop each)\n",
      "2.21 s ± 35.8 ms per loop (mean ± std. dev. of 7 runs, 1 loop each)\n",
      "15.8 s ± 216 ms per loop (mean ± std. dev. of 7 runs, 1 loop each)\n",
      "27.1 s ± 667 ms per loop (mean ± std. dev. of 7 runs, 1 loop each)\n",
      "16.8 s ± 558 ms per loop (mean ± std. dev. of 7 runs, 1 loop each)\n",
      "circuit 2 running\n",
      "11 s ± 404 ms per loop (mean ± std. dev. of 7 runs, 1 loop each)\n",
      "1min 7s ± 3.23 s per loop (mean ± std. dev. of 7 runs, 1 loop each)\n"
     ]
    }
   ],
   "source": [
    "circuit_sizes = [6, 10, 14, 18, 22, 26, 30, 34, 38, 42, 46, 50]\n",
    "\n",
    "qiskit_average_time = []\n",
    "qiskit_std_time = []\n",
    "qiskit_average_qubit_width = []\n",
    "\n",
    "\n",
    "\n",
    "# Set the number of random graph for each qubit number\n",
    "seed_num = 20 # this should be set to 20\n",
    "\n",
    "# Set the number of QAOA unitary layers\n",
    "layer_num = 2\n",
    "\n",
    "for i, q in enumerate(circuit_sizes):\n",
    "    print(\"circuit\", i+1, \"running\")\n",
    "    # create temporary data holders for intermediate results\n",
    "    tmp_qiskit_average_time = []\n",
    "    tmp_qiskit_std_time = []\n",
    "    tmp_qiskit_qubit_width = []\n",
    "    \n",
    "    qiskit_circuits, _ = create_qiskit_and_qnet_QAOA_circuits(q, seed_num, layer_num)\n",
    "\n",
    "    for circuit in qiskit_circuits:\n",
    "        qiskit_time = %timeit -o apply_qiskit_qubit_reuse(circuit)\n",
    "        compiled_qiskit_circuit = apply_qiskit_qubit_reuse(circuit)\n",
    "\n",
    "        tmp_qiskit_average_time.append(qiskit_time.average)\n",
    "        tmp_qiskit_std_time.append(qiskit_time.stdev)\n",
    "        tmp_qiskit_qubit_width.append(compiled_qiskit_circuit.num_qubits)\n",
    "\n",
    "    # Data colation\n",
    "    import numpy as np\n",
    "    qiskit_average_time.append(tmp_qiskit_average_time)\n",
    "    qiskit_std_time.append(tmp_qiskit_std_time)\n",
    "    qiskit_average_qubit_width.append(tmp_qiskit_qubit_width)\n",
    "        \n"
   ]
  },
  {
   "cell_type": "code",
   "execution_count": null,
   "id": "25a4e1e9-4805-4873-8c38-593a74a236d1",
   "metadata": {
    "tags": []
   },
   "outputs": [],
   "source": [
    "import pandas as pd\n",
    "# Convert lists to a dictionary\n",
    "data = {\n",
    "    'Circuit Sizes': circuit_sizes,\n",
    "    'Qiskit Average Runtime': qiskit_average_time,  # Added comma\n",
    "    'Qiskit Stdev Runtime': qiskit_std_time,  # Added comma\n",
    "    'Qiskit Width': qiskit_average_qubit_width,\n",
    "}\n",
    "\n",
    "# Assuming pandas is imported as pd\n",
    "import pandas as pd\n",
    "\n",
    "# Convert dictionary to DataFrame\n",
    "df = pd.DataFrame(data)\n",
    "\n",
    "# Save DataFrame to CSV\n",
    "df.to_csv('data_qaoa_cct/Qiskit_width_and_runtime_qaoa_p2_data_complete.csv', index=False)\n"
   ]
  },
  {
   "cell_type": "code",
   "execution_count": null,
   "id": "5bba8cd4-8aa1-4b1e-8c9d-a450aa740124",
   "metadata": {
    "tags": []
   },
   "outputs": [],
   "source": [
    "df"
   ]
  },
  {
   "cell_type": "code",
   "execution_count": null,
   "id": "206ff195-7597-4c13-ba36-706c21137538",
   "metadata": {},
   "outputs": [],
   "source": []
  },
  {
   "cell_type": "code",
   "execution_count": null,
   "id": "e3f4d5c0-dcf3-4a70-94d2-56808aa75115",
   "metadata": {},
   "outputs": [],
   "source": []
  },
  {
   "cell_type": "code",
   "execution_count": null,
   "id": "67fe7459-1fe4-4358-8056-3cd486d3ae24",
   "metadata": {},
   "outputs": [],
   "source": []
  },
  {
   "cell_type": "code",
   "execution_count": null,
   "id": "59b153c2-f0af-4812-9b1b-83012c130751",
   "metadata": {},
   "outputs": [],
   "source": []
  }
 ],
 "metadata": {
  "kernelspec": {
   "display_name": "phd-env",
   "language": "python",
   "name": "phd-env"
  },
  "language_info": {
   "codemirror_mode": {
    "name": "ipython",
    "version": 3
   },
   "file_extension": ".py",
   "mimetype": "text/x-python",
   "name": "python",
   "nbconvert_exporter": "python",
   "pygments_lexer": "ipython3",
   "version": "3.10.9"
  }
 },
 "nbformat": 4,
 "nbformat_minor": 5
}
