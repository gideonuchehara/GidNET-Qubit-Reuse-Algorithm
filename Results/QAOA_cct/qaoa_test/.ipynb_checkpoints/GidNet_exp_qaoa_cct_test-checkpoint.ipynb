{
 "cells": [
  {
   "cell_type": "code",
   "execution_count": null,
   "id": "47d0a271-8e6a-42dd-84ae-fa27a9378175",
   "metadata": {},
   "outputs": [],
   "source": []
  },
  {
   "cell_type": "code",
   "execution_count": 1,
   "id": "a6305e77-3275-4c64-a94f-eeaa28f60b47",
   "metadata": {
    "tags": []
   },
   "outputs": [],
   "source": [
    "from QCompute.OpenConvertor.CircuitToQasm import CircuitToQasm"
   ]
  },
  {
   "cell_type": "code",
   "execution_count": null,
   "id": "1097f8eb-1b6f-480e-85f3-1017725e63f7",
   "metadata": {},
   "outputs": [],
   "source": []
  },
  {
   "cell_type": "code",
   "execution_count": 2,
   "id": "f6f03d87-b554-423c-ac24-e4254bcef173",
   "metadata": {},
   "outputs": [
    {
     "data": {
      "text/plain": [
       "[6, 10, 14, 18, 22, 26, 30, 34, 38, 42, 46, 50]"
      ]
     },
     "execution_count": 2,
     "metadata": {},
     "output_type": "execute_result"
    }
   ],
   "source": [
    "[6, 10, 14, 18, 22, 26, 30, 34, 38, 42, 46, 50]"
   ]
  },
  {
   "cell_type": "code",
   "execution_count": 3,
   "id": "d144009e-a734-43b1-92b8-3cac845f4630",
   "metadata": {
    "tags": []
   },
   "outputs": [
    {
     "name": "stdout",
     "output_type": "stream",
     "text": [
      "Original circuit width: 6 \n",
      " Compiled circuit width: 4 \n",
      "\n",
      "Original circuit width: 6 \n",
      " Compiled circuit width: 4 \n",
      "\n",
      "Original circuit width: 6 \n",
      " Compiled circuit width: 4 \n",
      "\n",
      "Original circuit width: 6 \n",
      " Compiled circuit width: 4 \n",
      "\n",
      "Original circuit width: 6 \n",
      " Compiled circuit width: 4 \n",
      "\n",
      "Original circuit width: 10 \n",
      " Compiled circuit width: 6 \n",
      "\n",
      "Original circuit width: 10 \n",
      " Compiled circuit width: 5 \n",
      "\n",
      "Original circuit width: 10 \n",
      " Compiled circuit width: 5 \n",
      "\n",
      "Original circuit width: 10 \n",
      " Compiled circuit width: 5 \n",
      "\n",
      "Original circuit width: 10 \n",
      " Compiled circuit width: 6 \n",
      "\n"
     ]
    }
   ],
   "source": [
    "#!/usr/bin/python3\n",
    "# -*- coding: utf-8 -*-\n",
    "#\n",
    "# Copyright (c) 2022 Baidu, Inc. All Rights Reserved.\n",
    "#\n",
    "# Licensed under the Apache License, Version 2.0 (the \"License\");\n",
    "# you may not use this file except in compliance with the License.\n",
    "# You may obtain a copy of the License at\n",
    "#\n",
    "#     http://www.apache.org/licenses/LICENSE-2.0\n",
    "#\n",
    "# Unless required by applicable law or agreed to in writing, software\n",
    "# distributed under the License is distributed on an \"AS IS\" BASIS,\n",
    "# WITHOUT WARRANTIES OR CONDITIONS OF ANY KIND, either express or implied.\n",
    "# See the License for the specific language governing permissions and\n",
    "# limitations under the License.\n",
    "\n",
    "r\"\"\"\n",
    "Numerical experiment of the Max-Cut QAOA circuit on random unweighted 3-regular graph.\n",
    "\"\"\"\n",
    "\n",
    "from math import pi\n",
    "import networkx as nx\n",
    "from Extensions.QuantumNetwork.qcompute_qnet.quantum.circuit import Circuit\n",
    "from qiskit import QuantumCircuit\n",
    "\n",
    "\n",
    "\n",
    "# Set the number of random graph for each qubit number\n",
    "seed_num = 5\n",
    "# Set the random shots of the random greedy algorithm\n",
    "random_shots = 5\n",
    "# Set the range for the number of qubits\n",
    "min_qubit_num = 10\n",
    "max_qubit_num = 20\n",
    "# Set the number of QAOA unitary layers\n",
    "layer_num = 1\n",
    "\n",
    "# for q in range(min_qubit_num, max_qubit_num + 1, 2):\n",
    "for q in [6, 10]:\n",
    "    for s in range(seed_num):\n",
    "        # Generate the random U3R graph\n",
    "        u3r_graph = nx.random_regular_graph(3, q, s)\n",
    "\n",
    "        # Create a quantum circuit for QNET\n",
    "        cir = Circuit()\n",
    "#         qnet_circuit = QuantumCircuit(5)\n",
    "        \n",
    "#         # Create a Qiskit quantum circuit for GidNET\n",
    "#         gidnet_circuit = QuantumCircuit(5)\n",
    "\n",
    "        # Construct the Max-Cut QAOA circuit on the random graph\n",
    "        # Prepare uniform superposition over all qubits\n",
    "        for i in range(q):\n",
    "            cir.h(i)\n",
    "        # Apply the problem unitary and the mixing unitary alternatively multiple times\n",
    "        # Here all rotation angles are set to pi for simplicity\n",
    "        for p in range(layer_num):\n",
    "            # The problem unitary for Max-Cut\n",
    "            for edge in u3r_graph.edges():\n",
    "                cir.cx([edge[0], edge[1]])\n",
    "                cir.rz(edge[1], pi)\n",
    "                cir.cx([edge[0], edge[1]])\n",
    "            # The mixing unitary\n",
    "            for node in u3r_graph.nodes:\n",
    "                cir.rx(node, pi)\n",
    "\n",
    "        # Measure all qubits\n",
    "        cir.measure()\n",
    "        original_width = cir.width\n",
    "        \n",
    "        \n",
    "        # Apply random greedy heuristic algorithm to compile the QAOA circuit\n",
    "        cir.reduce(method=\"random_greedy\", shots=random_shots)\n",
    "\n",
    "        # Print the result\n",
    "        print(\"Original circuit width:\", original_width, \"\\n\", \"Compiled circuit width:\", cir.width, \"\\n\")"
   ]
  },
  {
   "cell_type": "code",
   "execution_count": null,
   "id": "2036b744-b037-4cdc-87c8-fd6bea68eaa6",
   "metadata": {},
   "outputs": [],
   "source": []
  },
  {
   "cell_type": "code",
   "execution_count": 4,
   "id": "f611e0c0-5e15-46bd-aaa6-5060361a525f",
   "metadata": {
    "tags": []
   },
   "outputs": [],
   "source": [
    "from gidnet_qubit_reuse_algorithm.gidnet_qra import compute_qubit_reuse_sets, generate_dynamic_circuit\n",
    "from biadu_qnet_qubit_reuse.baidu_qnet_qr import (compute_qnet_qubit_reuse_list, \n",
    "                                                  from_qiskit_to_qnet,\n",
    "                                                 compute_qnet_qubit_reuse_list_timing)\n",
    "from helper_functions.benchmarks import generate_circ\n",
    "import time"
   ]
  },
  {
   "cell_type": "code",
   "execution_count": 5,
   "id": "890dab60-e5e6-4c45-8ba8-8ec9d122ff23",
   "metadata": {
    "tags": []
   },
   "outputs": [
    {
     "name": "stdout",
     "output_type": "stream",
     "text": [
      "circuit 1 running\n",
      "5.11 ms ± 792 µs per loop (mean ± std. dev. of 7 runs, 100 loops each)\n",
      "5.51 ms ± 533 µs per loop (mean ± std. dev. of 7 runs, 100 loops each)\n",
      "The slowest run took 7.25 times longer than the fastest. This could mean that an intermediate result is being cached.\n",
      "129 ms ± 69.9 ms per loop (mean ± std. dev. of 7 runs, 1,000 loops each)\n",
      "circuit 2 running\n",
      "9.67 ms ± 729 µs per loop (mean ± std. dev. of 7 runs, 100 loops each)\n",
      "12.5 ms ± 439 µs per loop (mean ± std. dev. of 7 runs, 100 loops each)\n",
      "20.2 ms ± 7.83 ms per loop (mean ± std. dev. of 7 runs, 100 loops each)\n"
     ]
    }
   ],
   "source": [
    "#!/usr/bin/python3\n",
    "# -*- coding: utf-8 -*-\n",
    "#\n",
    "# Copyright (c) 2022 Baidu, Inc. All Rights Reserved.\n",
    "#\n",
    "# Licensed under the Apache License, Version 2.0 (the \"License\");\n",
    "# you may not use this file except in compliance with the License.\n",
    "# You may obtain a copy of the License at\n",
    "#\n",
    "#     http://www.apache.org/licenses/LICENSE-2.0\n",
    "#\n",
    "# Unless required by applicable law or agreed to in writing, software\n",
    "# distributed under the License is distributed on an \"AS IS\" BASIS,\n",
    "# WITHOUT WARRANTIES OR CONDITIONS OF ANY KIND, either express or implied.\n",
    "# See the License for the specific language governing permissions and\n",
    "# limitations under the License.\n",
    "\n",
    "r\"\"\"\n",
    "Numerical experiment of the Max-Cut QAOA circuit on random unweighted 3-regular graph.\n",
    "\"\"\"\n",
    "\n",
    "from math import pi\n",
    "import networkx as nx\n",
    "from Extensions.QuantumNetwork.qcompute_qnet.quantum.circuit import Circuit\n",
    "from qiskit import QuantumCircuit\n",
    "\n",
    "\n",
    "\n",
    "circuit_sizes = [6, 10, 14, 18, 22, 26, 30, 34, 38, 42, 46, 50]\n",
    "\n",
    "circuit_sizes = [6, 10]\n",
    "\n",
    "gidnet_average_time = []\n",
    "gidnet_std_time = []\n",
    "gidnet_average_qubit_width = []\n",
    "gidnet_std_qubit_width = []\n",
    "\n",
    "gidnet_plus_average_time = []\n",
    "gidnet_plus_std_time = []\n",
    "gidnet_plus_average_qubit_width = []\n",
    "gidnet_plus_std_qubit_width = []\n",
    "\n",
    "qnet_average_time = []\n",
    "qnet_std_time = []\n",
    "qnet_average_qubit_width = []\n",
    "qnet_std_qubit_width = []\n",
    "\n",
    "\n",
    "\n",
    "# Set the number of random graph for each qubit number\n",
    "seed_num = 1 # this should be set to 20\n",
    "# Set the random shots of the random greedy algorithm\n",
    "random_shots = 1 # this should be set to 10\n",
    "# Set the range for the number of qubits\n",
    "\n",
    "# Set the number of QAOA unitary layers\n",
    "layer_num = 1\n",
    "\n",
    "for i, q in enumerate(circuit_sizes):\n",
    "    print(\"circuit\", i+1, \"running\")\n",
    "    # create temporary data holders for intermediate results\n",
    "    tmp_gidnet_average_time = []\n",
    "    tmp_gidnet_std_time = []\n",
    "    tmp_gidnet_qubit_width = []\n",
    "\n",
    "    tmp_gidnet_plus_average_time = []\n",
    "    tmp_gidnet_plus_std_time = []\n",
    "    tmp_gidnet_plus_qubit_width = []\n",
    "\n",
    "    tmp_qnet_average_time = []\n",
    "    tmp_qnet_std_time = []\n",
    "    tmp_qnet_qubit_width = []\n",
    "    \n",
    "    for s in range(seed_num):\n",
    "        #********** Circuit construction for QNET and GidNET begins ******#\n",
    "        # Generate the random U3R graph\n",
    "        u3r_graph = nx.random_regular_graph(3, q, s)\n",
    "\n",
    "        # Create a quantum circuit for QNET\n",
    "        qnet_circuit = Circuit()\n",
    "        \n",
    "        # Create a Qiskit quantum circuit for GidNET\n",
    "        gidnet_circuit = QuantumCircuit(q)\n",
    "\n",
    "        # Construct the Max-Cut QAOA circuit on the random graph\n",
    "        # Prepare uniform superposition over all qubits\n",
    "        for i in range(q):\n",
    "            qnet_circuit.h(i)\n",
    "            \n",
    "            # do same for gidnet_circuit\n",
    "            gidnet_circuit.h(i)\n",
    "            \n",
    "        # Apply the problem unitary and the mixing unitary alternatively multiple times\n",
    "        # Here all rotation angles are set to pi for simplicity\n",
    "        for p in range(layer_num):\n",
    "            # The problem unitary for Max-Cut\n",
    "            for edge in u3r_graph.edges():\n",
    "                qnet_circuit.cx([edge[0], edge[1]])\n",
    "                qnet_circuit.rz(edge[1], pi)\n",
    "                qnet_circuit.cx([edge[0], edge[1]])\n",
    "                \n",
    "                # do same for gidnet_circuit\n",
    "                gidnet_circuit.cx(edge[0], edge[1])\n",
    "                gidnet_circuit.rz(pi, edge[1])\n",
    "                gidnet_circuit.cx(edge[0], edge[1])\n",
    "                \n",
    "            # The mixing unitary\n",
    "            for node in u3r_graph.nodes:\n",
    "                qnet_circuit.rx(node, pi)\n",
    "                \n",
    "                # do same for gidnet_circuit\n",
    "                gidnet_circuit.rx(pi, node)\n",
    "\n",
    "        # Measure all qubits\n",
    "        qnet_circuit.measure()\n",
    "        qnet_original_width = qnet_circuit.width\n",
    "        \n",
    "        # do same for gidnet_circuit\n",
    "        gidnet_circuit.measure_all()\n",
    "        gidnet_original_width = gidnet_circuit.num_qubits\n",
    "        #********** Circuit construction for QNET and GidNET Ends ******#\n",
    "        \n",
    "        \n",
    "        \n",
    "        #********** Dynamic Circuit compilation for QNET and GidNET begins ******#\n",
    "        #### GIDNET EXPERIMENT BEGINS #####\n",
    "        gidnet_time = %timeit -o compute_qubit_reuse_sets(gidnet_circuit)\n",
    "        gidnet_result = compute_qubit_reuse_sets(gidnet_circuit)\n",
    "\n",
    "        tmp_gidnet_average_time.append(gidnet_time.average)\n",
    "        tmp_gidnet_std_time.append(gidnet_time.stdev)\n",
    "        tmp_gidnet_qubit_width.append(len(gidnet_result))\n",
    "\n",
    "\n",
    "        #### GIDNET+ EXPERIMENT BEGINS #####\n",
    "        # TODO: TROUBLESHOOT maximize_circuit_depth, it doesn't work for circuit size 144\n",
    "        gidnet_plus_time = %timeit -o compute_qubit_reuse_sets(gidnet_circuit, improved_gidnet=True, maximize_circuit_depth=False)\n",
    "        gidnet_plus_result = compute_qubit_reuse_sets(gidnet_circuit, improved_gidnet=True,\n",
    "                                                               maximize_circuit_depth=False)\n",
    "\n",
    "        tmp_gidnet_plus_average_time.append(gidnet_plus_time.average)\n",
    "        tmp_gidnet_plus_std_time.append(gidnet_plus_time.stdev)\n",
    "        tmp_gidnet_plus_qubit_width.append(len(gidnet_plus_result))\n",
    "\n",
    "\n",
    "        #### QNET EXPERIMENTS BEGIN #####\n",
    "        qnet_time = %timeit -o compute_qnet_qubit_reuse_list_timing(qnet_circuit, method=\"random\", shots=random_shots)\n",
    "        qnet_result = compute_qnet_qubit_reuse_list(qnet_circuit, method=\"random\", shots=random_shots)\n",
    "\n",
    "        tmp_qnet_average_time.append(qnet_time.average)\n",
    "        tmp_qnet_std_time.append(qnet_time.stdev)\n",
    "        tmp_qnet_qubit_width.append(len(qnet_result))\n",
    "        \n",
    "        #*****\n",
    "#         qnet_time = %timeit -o qnet_circuit.reduce(method=\"random_greedy\", shots=random_shots)\n",
    "#         qnet_circuit.reduce(method=\"random_greedy\", shots=random_shots)\n",
    "        \n",
    "#         tmp_qnet_average_time.append(qnet_time.average)\n",
    "#         tmp_qnet_std_time.append(qnet_time.stdev)\n",
    "#         tmp_qnet_qubit_width.append(qnet_circuit.width)\n",
    "        \n",
    "        #********** Dynamic Circuit compilation for QNET and GidNET Ends ******#\n",
    "    \n",
    "    import numpy as np\n",
    "    # Data colation\n",
    "    gidnet_average_time.append(np.array(tmp_gidnet_average_time).mean())\n",
    "    gidnet_std_time.append(np.array(tmp_gidnet_std_time).mean())\n",
    "    gidnet_average_qubit_width.append(np.array(tmp_gidnet_qubit_width).mean())\n",
    "    gidnet_std_qubit_width.append(np.array(tmp_gidnet_qubit_width).std())\n",
    "    \n",
    "    gidnet_plus_average_time.append(np.array(tmp_gidnet_plus_average_time).mean())\n",
    "    gidnet_plus_std_time.append(np.array(tmp_gidnet_plus_std_time).mean())\n",
    "    gidnet_plus_average_qubit_width.append(np.array(tmp_gidnet_plus_qubit_width).mean())\n",
    "    gidnet_plus_std_qubit_width.append(np.array(tmp_gidnet_plus_qubit_width).std())\n",
    "    \n",
    "    \n",
    "    qnet_average_time.append(np.array(tmp_qnet_average_time).mean())\n",
    "    qnet_std_time.append(np.array(tmp_qnet_std_time).mean())\n",
    "    qnet_average_qubit_width.append(np.array(tmp_qnet_qubit_width).mean())\n",
    "    qnet_std_qubit_width.append(np.array(tmp_qnet_qubit_width).std())\n",
    "        \n",
    "        \n",
    "#         # Apply random greedy heuristic algorithm to compile the QAOA circuit\n",
    "#         qnet_circuit.reduce(method=\"random_greedy\", shots=random_shots)\n",
    "\n",
    "#         # Print the result\n",
    "#         print(\"Original circuit width:\", qnet_original_width, \"\\n\", \"Compiled circuit width:\", qnet_circuit.width, \"\\n\")"
   ]
  },
  {
   "cell_type": "code",
   "execution_count": null,
   "id": "da6d711a-9205-451b-8098-b2dfe294d983",
   "metadata": {
    "tags": []
   },
   "outputs": [],
   "source": []
  },
  {
   "cell_type": "code",
   "execution_count": 15,
   "id": "528431b6-1f73-4ba8-9492-0c502833cd6b",
   "metadata": {
    "tags": []
   },
   "outputs": [
    {
     "data": {
      "text/plain": [
       "[4.0, 6.0]"
      ]
     },
     "execution_count": 15,
     "metadata": {},
     "output_type": "execute_result"
    }
   ],
   "source": [
    "gidnet_average_qubit_width"
   ]
  },
  {
   "cell_type": "code",
   "execution_count": 16,
   "id": "ce8d470c-5774-4ac2-a8c9-30b832be6132",
   "metadata": {
    "tags": []
   },
   "outputs": [
    {
     "data": {
      "text/plain": [
       "[0.0, 0.0]"
      ]
     },
     "execution_count": 16,
     "metadata": {},
     "output_type": "execute_result"
    }
   ],
   "source": [
    "gidnet_std_qubit_width"
   ]
  },
  {
   "cell_type": "code",
   "execution_count": 17,
   "id": "296a4e8f-7665-4486-ba48-7ae0208eb583",
   "metadata": {
    "tags": []
   },
   "outputs": [
    {
     "data": {
      "text/plain": [
       "[4.0, 6.0]"
      ]
     },
     "execution_count": 17,
     "metadata": {},
     "output_type": "execute_result"
    }
   ],
   "source": [
    "gidnet_plus_average_qubit_width"
   ]
  },
  {
   "cell_type": "code",
   "execution_count": 18,
   "id": "a6f7538e-0d9f-437e-9a33-ceb0259f75f3",
   "metadata": {
    "tags": []
   },
   "outputs": [
    {
     "data": {
      "text/plain": [
       "[0.0, 0.0]"
      ]
     },
     "execution_count": 18,
     "metadata": {},
     "output_type": "execute_result"
    }
   ],
   "source": [
    "gidnet_plus_std_qubit_width"
   ]
  },
  {
   "cell_type": "code",
   "execution_count": 19,
   "id": "8e25ab7d-9137-4fa7-a0b3-5e44c258d7b5",
   "metadata": {
    "tags": []
   },
   "outputs": [
    {
     "data": {
      "text/plain": [
       "[4.0, 6.0]"
      ]
     },
     "execution_count": 19,
     "metadata": {},
     "output_type": "execute_result"
    }
   ],
   "source": [
    "qnet_average_qubit_width"
   ]
  },
  {
   "cell_type": "code",
   "execution_count": 20,
   "id": "08713f8f-aed9-4af0-bb12-8811ee120cad",
   "metadata": {
    "tags": []
   },
   "outputs": [
    {
     "data": {
      "text/plain": [
       "[0.0, 0.0]"
      ]
     },
     "execution_count": 20,
     "metadata": {},
     "output_type": "execute_result"
    }
   ],
   "source": [
    "qnet_std_qubit_width"
   ]
  },
  {
   "cell_type": "code",
   "execution_count": null,
   "id": "e0492641-eb4f-4701-b9ad-e7160009f7e6",
   "metadata": {},
   "outputs": [],
   "source": []
  },
  {
   "cell_type": "code",
   "execution_count": null,
   "id": "21ed2dc7-724b-4313-940f-53ff9b95d995",
   "metadata": {},
   "outputs": [],
   "source": []
  },
  {
   "cell_type": "code",
   "execution_count": null,
   "id": "afe73ecf-05d2-4c7b-9b23-ca3dde27e15d",
   "metadata": {},
   "outputs": [],
   "source": []
  },
  {
   "cell_type": "code",
   "execution_count": 2,
   "id": "abeb91ae-68d9-4aae-90fd-7fbbc84fe316",
   "metadata": {
    "tags": []
   },
   "outputs": [
    {
     "name": "stdout",
     "output_type": "stream",
     "text": [
      "circuit 1 running\n",
      "465 ms ± 68 ms per loop (mean ± std. dev. of 7 runs, 1 loop each)\n",
      "12.7 s ± 484 ms per loop (mean ± std. dev. of 7 runs, 1 loop each)\n",
      "7min 6s ± 1.93 s per loop (mean ± std. dev. of 7 runs, 1 loop each)\n",
      "424 ms ± 14.7 ms per loop (mean ± std. dev. of 7 runs, 1 loop each)\n",
      "11.7 s ± 46.2 ms per loop (mean ± std. dev. of 7 runs, 1 loop each)\n",
      "7min 5s ± 1.6 s per loop (mean ± std. dev. of 7 runs, 1 loop each)\n",
      "451 ms ± 10.5 ms per loop (mean ± std. dev. of 7 runs, 1 loop each)\n",
      "11.5 s ± 54.1 ms per loop (mean ± std. dev. of 7 runs, 1 loop each)\n",
      "7min 14s ± 2.54 s per loop (mean ± std. dev. of 7 runs, 1 loop each)\n",
      "429 ms ± 15.7 ms per loop (mean ± std. dev. of 7 runs, 1 loop each)\n",
      "11.1 s ± 51.3 ms per loop (mean ± std. dev. of 7 runs, 1 loop each)\n",
      "7min 7s ± 1.21 s per loop (mean ± std. dev. of 7 runs, 1 loop each)\n",
      "457 ms ± 15.6 ms per loop (mean ± std. dev. of 7 runs, 1 loop each)\n",
      "11.5 s ± 73.1 ms per loop (mean ± std. dev. of 7 runs, 1 loop each)\n",
      "6min 51s ± 1.94 s per loop (mean ± std. dev. of 7 runs, 1 loop each)\n"
     ]
    }
   ],
   "source": [
    "from gidnet_qubit_reuse_algorithm.gidnet_qra import compute_qubit_reuse_sets, generate_dynamic_circuit\n",
    "from biadu_qnet_qubit_reuse.baidu_qnet_qr import (compute_qnet_qubit_reuse_list, \n",
    "                                                  from_qiskit_to_qnet,\n",
    "                                                 compute_qnet_qubit_reuse_list_timing)\n",
    "from helper_functions.benchmarks import generate_circ\n",
    "import time\n",
    "\n",
    "\n",
    "\n",
    "\n",
    "#!/usr/bin/python3\n",
    "# -*- coding: utf-8 -*-\n",
    "#\n",
    "# Copyright (c) 2022 Baidu, Inc. All Rights Reserved.\n",
    "#\n",
    "# Licensed under the Apache License, Version 2.0 (the \"License\");\n",
    "# you may not use this file except in compliance with the License.\n",
    "# You may obtain a copy of the License at\n",
    "#\n",
    "#     http://www.apache.org/licenses/LICENSE-2.0\n",
    "#\n",
    "# Unless required by applicable law or agreed to in writing, software\n",
    "# distributed under the License is distributed on an \"AS IS\" BASIS,\n",
    "# WITHOUT WARRANTIES OR CONDITIONS OF ANY KIND, either express or implied.\n",
    "# See the License for the specific language governing permissions and\n",
    "# limitations under the License.\n",
    "\n",
    "r\"\"\"\n",
    "Numerical experiment of the Max-Cut QAOA circuit on random unweighted 3-regular graph.\n",
    "\"\"\"\n",
    "\n",
    "from math import pi\n",
    "import numpy as np\n",
    "import networkx as nx\n",
    "from Extensions.QuantumNetwork.qcompute_qnet.quantum.circuit import Circuit\n",
    "from qiskit import QuantumCircuit\n",
    "\n",
    "\n",
    "\n",
    "# circuit_sizes = list(np.arange(52, 204, 4))\n",
    "circuit_sizes = [80]\n",
    "\n",
    "gidnet_average_time = []\n",
    "gidnet_std_time = []\n",
    "gidnet_average_qubit_width = []\n",
    "gidnet_std_qubit_width = []\n",
    "\n",
    "gidnet_plus_average_time = []\n",
    "gidnet_plus_std_time = []\n",
    "gidnet_plus_average_qubit_width = []\n",
    "gidnet_plus_std_qubit_width = []\n",
    "\n",
    "qnet_average_time = []\n",
    "qnet_std_time = []\n",
    "qnet_average_qubit_width = []\n",
    "qnet_std_qubit_width = []\n",
    "\n",
    "\n",
    "\n",
    "# Set the number of random graph for each qubit number\n",
    "seed_num = 5 # this should be set to 20\n",
    "# Set the random shots of the random greedy algorithm\n",
    "random_shots = 10 # this should be set to 10\n",
    "# Set the range for the number of qubits\n",
    "\n",
    "# Set the number of QAOA unitary layers\n",
    "layer_num = 1\n",
    "\n",
    "for i, q in enumerate(circuit_sizes):\n",
    "    print(\"circuit\", i+1, \"running\")\n",
    "    # create temporary data holders for intermediate results\n",
    "    tmp_gidnet_average_time = []\n",
    "    tmp_gidnet_std_time = []\n",
    "    tmp_gidnet_qubit_width = []\n",
    "\n",
    "    tmp_gidnet_plus_average_time = []\n",
    "    tmp_gidnet_plus_std_time = []\n",
    "    tmp_gidnet_plus_qubit_width = []\n",
    "\n",
    "    tmp_qnet_average_time = []\n",
    "    tmp_qnet_std_time = []\n",
    "    tmp_qnet_qubit_width = []\n",
    "    \n",
    "    for s in range(seed_num):\n",
    "        #********** Circuit construction for QNET and GidNET begins ******#\n",
    "        # Generate the random U3R graph\n",
    "        u3r_graph = nx.random_regular_graph(3, q, s)\n",
    "\n",
    "        # Create a quantum circuit for QNET\n",
    "        qnet_circuit = Circuit()\n",
    "        \n",
    "        # Create a Qiskit quantum circuit for GidNET\n",
    "        gidnet_circuit = QuantumCircuit(q)\n",
    "\n",
    "        # Construct the Max-Cut QAOA circuit on the random graph\n",
    "        # Prepare uniform superposition over all qubits\n",
    "        for i in range(q):\n",
    "            qnet_circuit.h(i)\n",
    "            \n",
    "            # do same for gidnet_circuit\n",
    "            gidnet_circuit.h(i)\n",
    "            \n",
    "        # Apply the problem unitary and the mixing unitary alternatively multiple times\n",
    "        # Here all rotation angles are set to pi for simplicity\n",
    "        for p in range(layer_num):\n",
    "            # The problem unitary for Max-Cut\n",
    "            for edge in u3r_graph.edges():\n",
    "                qnet_circuit.cx([edge[0], edge[1]])\n",
    "                qnet_circuit.rz(edge[1], pi)\n",
    "                qnet_circuit.cx([edge[0], edge[1]])\n",
    "                \n",
    "                # do same for gidnet_circuit\n",
    "                gidnet_circuit.cx(edge[0], edge[1])\n",
    "                gidnet_circuit.rz(pi, edge[1])\n",
    "                gidnet_circuit.cx(edge[0], edge[1])\n",
    "                \n",
    "            # The mixing unitary\n",
    "            for node in u3r_graph.nodes:\n",
    "                qnet_circuit.rx(node, pi)\n",
    "                \n",
    "                # do same for gidnet_circuit\n",
    "                gidnet_circuit.rx(pi, node)\n",
    "\n",
    "        # Measure all qubits\n",
    "        qnet_circuit.measure()\n",
    "        qnet_original_width = qnet_circuit.width\n",
    "        \n",
    "        # do same for gidnet_circuit\n",
    "        gidnet_circuit.measure_all()\n",
    "        gidnet_original_width = gidnet_circuit.num_qubits\n",
    "        #********** Circuit construction for QNET and GidNET Ends ******#\n",
    "        \n",
    "        \n",
    "        \n",
    "        #********** Dynamic Circuit compilation for QNET and GidNET begins ******#\n",
    "        #### GIDNET EXPERIMENT BEGINS #####\n",
    "        gidnet_time = %timeit -o compute_qubit_reuse_sets(gidnet_circuit)\n",
    "        gidnet_result = compute_qubit_reuse_sets(gidnet_circuit)\n",
    "\n",
    "        tmp_gidnet_average_time.append(gidnet_time.average)\n",
    "        tmp_gidnet_std_time.append(gidnet_time.stdev)\n",
    "        tmp_gidnet_qubit_width.append(len(gidnet_result))\n",
    "\n",
    "\n",
    "        #### GIDNET+ EXPERIMENT BEGINS #####\n",
    "        # TODO: TROUBLESHOOT maximize_circuit_depth, it doesn't work for circuit size 144\n",
    "        gidnet_plus_time = %timeit -o compute_qubit_reuse_sets(gidnet_circuit, improved_gidnet=True, maximize_circuit_depth=False)\n",
    "        gidnet_plus_result = compute_qubit_reuse_sets(gidnet_circuit, improved_gidnet=True,\n",
    "                                                               maximize_circuit_depth=False)\n",
    "\n",
    "        tmp_gidnet_plus_average_time.append(gidnet_plus_time.average)\n",
    "        tmp_gidnet_plus_std_time.append(gidnet_plus_time.stdev)\n",
    "        tmp_gidnet_plus_qubit_width.append(len(gidnet_plus_result))\n",
    "\n",
    "\n",
    "        #### QNET EXPERIMENTS BEGIN #####\n",
    "        qnet_time = %timeit -o compute_qnet_qubit_reuse_list_timing(qnet_circuit, method=\"random\", shots=random_shots)\n",
    "        qnet_result = compute_qnet_qubit_reuse_list(qnet_circuit, method=\"random\", shots=random_shots)\n",
    "        \n",
    "        # Apply random greedy heuristic algorithm to compile the QAOA circuit\n",
    "#         qnet_circuit.reduce(method=\"random_greedy\", shots=random_shots)\n",
    "#         qnet_result = qnet_circuit.width\n",
    "        \n",
    "\n",
    "        tmp_qnet_average_time.append(qnet_time.average)\n",
    "        tmp_qnet_std_time.append(qnet_time.stdev)\n",
    "        tmp_qnet_qubit_width.append(len(qnet_result))\n",
    "        \n",
    "        #*****\n",
    "#         qnet_time = %timeit -o qnet_circuit.reduce(method=\"random_greedy\", shots=random_shots)\n",
    "#         qnet_circuit.reduce(method=\"random_greedy\", shots=random_shots)\n",
    "        \n",
    "#         tmp_qnet_average_time.append(qnet_time.average)\n",
    "#         tmp_qnet_std_time.append(qnet_time.stdev)\n",
    "#         tmp_qnet_qubit_width.append(qnet_circuit.width)\n",
    "        \n",
    "        #********** Dynamic Circuit compilation for QNET and GidNET Ends ******#\n",
    "    \n",
    "    import numpy as np\n",
    "    # Data colation\n",
    "    gidnet_average_time.append(np.array(tmp_gidnet_average_time).mean())\n",
    "    gidnet_std_time.append(np.array(tmp_gidnet_std_time).mean())\n",
    "    gidnet_average_qubit_width.append(np.array(tmp_gidnet_qubit_width).mean())\n",
    "    gidnet_std_qubit_width.append(np.array(tmp_gidnet_qubit_width).std())\n",
    "    \n",
    "    gidnet_plus_average_time.append(np.array(tmp_gidnet_plus_average_time).mean())\n",
    "    gidnet_plus_std_time.append(np.array(tmp_gidnet_plus_std_time).mean())\n",
    "    gidnet_plus_average_qubit_width.append(np.array(tmp_gidnet_plus_qubit_width).mean())\n",
    "    gidnet_plus_std_qubit_width.append(np.array(tmp_gidnet_plus_qubit_width).std())\n",
    "    \n",
    "    \n",
    "    qnet_average_time.append(np.array(tmp_qnet_average_time).mean())\n",
    "    qnet_std_time.append(np.array(tmp_qnet_std_time).mean())\n",
    "    qnet_average_qubit_width.append(np.array(tmp_qnet_qubit_width).mean())\n",
    "    qnet_std_qubit_width.append(np.array(tmp_qnet_qubit_width).std())\n",
    "        \n"
   ]
  },
  {
   "cell_type": "code",
   "execution_count": null,
   "id": "2999d221-374b-4ebe-a620-d5dd058e42a5",
   "metadata": {},
   "outputs": [],
   "source": []
  },
  {
   "cell_type": "code",
   "execution_count": null,
   "id": "b5af0c4f-a99f-4437-b0aa-9002bc82e9ba",
   "metadata": {},
   "outputs": [],
   "source": []
  },
  {
   "cell_type": "code",
   "execution_count": null,
   "id": "052119d1-d199-4069-a5a4-4ea54c072fb1",
   "metadata": {},
   "outputs": [],
   "source": [
    "from gidnet_qubit_reuse_algorithm.gidnet_qra import compute_qubit_reuse_sets, generate_dynamic_circuit\n",
    "from biadu_qnet_qubit_reuse.baidu_qnet_qr import (compute_qnet_qubit_reuse_list, \n",
    "                                                  from_qiskit_to_qnet,\n",
    "                                                 compute_qnet_qubit_reuse_list_timing)\n",
    "from helper_functions.benchmarks import generate_circ\n",
    "import time"
   ]
  },
  {
   "cell_type": "code",
   "execution_count": null,
   "id": "032cb898-4d72-4d07-a857-d7e78220dc41",
   "metadata": {},
   "outputs": [],
   "source": [
    "# circuit_sizes = list(np.arange(52, 204, 4))\n",
    "circuit_sizes = [80]\n",
    "\n",
    "gidnet_average_time = []\n",
    "gidnet_std_time = []\n",
    "gidnet_average_qubit_width = []\n",
    "gidnet_std_qubit_width = []\n",
    "\n",
    "gidnet_plus_average_time = []\n",
    "gidnet_plus_std_time = []\n",
    "gidnet_plus_average_qubit_width = []\n",
    "gidnet_plus_std_qubit_width = []\n",
    "\n",
    "qnet_average_time = []\n",
    "qnet_std_time = []\n",
    "qnet_average_qubit_width = []\n",
    "qnet_std_qubit_width = []"
   ]
  },
  {
   "cell_type": "code",
   "execution_count": null,
   "id": "5224ae7b-cff4-47f7-acf5-d01154c77362",
   "metadata": {},
   "outputs": [],
   "source": []
  },
  {
   "cell_type": "code",
   "execution_count": 8,
   "id": "3130d5d2-a6c3-4624-8ec1-149873a45360",
   "metadata": {
    "tags": []
   },
   "outputs": [],
   "source": [
    "def create_qiskit_and_qnet_QAOA_circuits(num_qubits, num_circuits, layer_num=1):\n",
    "    r\"\"\"\n",
    "    Generates a set of QAOA circuits using both Qiskit and QNET frameworks for a given number of qubits, \n",
    "    applied to random unweighted 3-regular graphs (U3R). These graphs are used as the underlying topology \n",
    "    in the Max-Cut QAOA problem.\n",
    "\n",
    "    Parameters:\n",
    "    num_qubits : int\n",
    "        The number of qubits for each QAOA circuit, which is also the number of vertices in the U3R graph.\n",
    "    num_circuits : int\n",
    "        The total number of random circuits to generate. Each circuit is initialized using an incremental\n",
    "        seed value to ensure reproducibility and diversity in graph generation.\n",
    "    layer_num : int, optional\n",
    "        The number of QAOA layers (or the p-value in QAOA terms), specifying how many times the problem \n",
    "        and mixing unitaries are applied. Default is 1.\n",
    "\n",
    "    Returns:\n",
    "    tuple\n",
    "        A tuple containing two lists: the first list contains Qiskit quantum circuits and the second list \n",
    "        contains QNET quantum circuits, both representing the QAOA implementation for the Max-Cut problem \n",
    "        on randomly generated U3R graphs.\n",
    "    \"\"\"\n",
    "    \n",
    "    from math import pi\n",
    "    import numpy as np\n",
    "    import networkx as nx\n",
    "    from qiskit import QuantumCircuit\n",
    "    from Extensions.QuantumNetwork.qcompute_qnet.quantum.circuit import Circuit\n",
    "    \n",
    "    qnet_circuits = []\n",
    "    qiskit_circuits = []\n",
    "\n",
    "    for seed in range(num_circuits):\n",
    "        # Generate a random unweighted 3-regular graph (U3R) using the seed\n",
    "        u3r_graph = nx.random_regular_graph(3, num_qubits, seed)\n",
    "\n",
    "        # Initialize a QNET circuit for QAOA\n",
    "        qnet_circuit = Circuit()\n",
    "\n",
    "        # Initialize a Qiskit quantum circuit with the same number of qubits\n",
    "        qiskit_circuit = QuantumCircuit(num_qubits)\n",
    "\n",
    "        # Construct the Max-Cut QAOA circuit based on the U3R graph\n",
    "        # Prepare a uniform superposition over all qubits\n",
    "        for i in range(num_qubits):\n",
    "            qnet_circuit.h(i)\n",
    "            qiskit_circuit.h(i)\n",
    "\n",
    "        # Apply the problem and mixing unitaries iteratively for each layer\n",
    "        for p in range(layer_num):\n",
    "            # Problem unitary (corresponding to the graph structure)\n",
    "            for edge in u3r_graph.edges():\n",
    "                qnet_circuit.cx([edge[0], edge[1]])\n",
    "                qnet_circuit.rz(edge[1], pi)\n",
    "                qnet_circuit.cx([edge[0], edge[1]])\n",
    "\n",
    "                qiskit_circuit.cx(edge[0], edge[1])\n",
    "                qiskit_circuit.rz(pi, edge[1])\n",
    "                qiskit_circuit.cx(edge[0], edge[1])\n",
    "\n",
    "            # Mixing unitary\n",
    "            for node in u3r_graph.nodes():\n",
    "                qnet_circuit.rx(node, pi)\n",
    "                qiskit_circuit.rx(pi, node)\n",
    "\n",
    "        # Measure all qubits at the end of the circuit\n",
    "        qnet_circuit.measure()\n",
    "        qiskit_circuit.measure_all()\n",
    "\n",
    "        # Store the constructed circuits\n",
    "        qnet_circuits.append(qnet_circuit)\n",
    "        qiskit_circuits.append(qiskit_circuit)\n",
    "        \n",
    "    return qiskit_circuits, qnet_circuits\n"
   ]
  },
  {
   "cell_type": "code",
   "execution_count": 1,
   "id": "33abb18c-741c-42b8-8b5b-d65c598c81d7",
   "metadata": {
    "tags": []
   },
   "outputs": [],
   "source": [
    "from gidnet_qubit_reuse_algorithm.gidnet_qra import compute_qubit_reuse_sets, generate_dynamic_circuit\n",
    "from biadu_qnet_qubit_reuse.baidu_qnet_qr import (compute_qnet_qubit_reuse_list, \n",
    "                                                  from_qiskit_to_qnet,\n",
    "                                                 compute_qnet_qubit_reuse_list_timing)\n",
    "from helper_functions.benchmarks import generate_circ\n",
    "import time\n",
    "\n",
    "from gidnet_qubit_reuse_algorithm.gidnet_qra import apply_qiskit_qubit_reuse, create_qiskit_and_qnet_QAOA_circuits"
   ]
  },
  {
   "cell_type": "code",
   "execution_count": 18,
   "id": "56cf5d2f-aa07-4dc4-b05d-d58dbb13ae85",
   "metadata": {
    "tags": []
   },
   "outputs": [],
   "source": [
    "num_qubits = 80\n",
    "num_circuits = 1\n",
    "\n",
    "qiskit_circuits, qnet_circuits = create_qiskit_and_qnet_QAOA_circuits(num_qubits, num_circuits, layer_num=1)"
   ]
  },
  {
   "cell_type": "code",
   "execution_count": 21,
   "id": "67cfc8af-3a66-437c-8849-628e2404d98f",
   "metadata": {
    "tags": []
   },
   "outputs": [],
   "source": [
    "# qiskit_circuits[0].draw(\"mpl\")"
   ]
  },
  {
   "cell_type": "code",
   "execution_count": 19,
   "id": "0a9f91f7-28e6-4ae4-b511-db350256cf39",
   "metadata": {
    "tags": []
   },
   "outputs": [
    {
     "data": {
      "text/plain": [
       "33"
      ]
     },
     "execution_count": 19,
     "metadata": {},
     "output_type": "execute_result"
    }
   ],
   "source": [
    "qiskit_dynamic_circuit = apply_qiskit_qubit_reuse(qiskit_circuits[0])\n",
    "qiskit_dynamic_circuit.num_qubits"
   ]
  },
  {
   "cell_type": "code",
   "execution_count": 20,
   "id": "6bf9680b-32dd-4959-9d7c-54aba79f6499",
   "metadata": {
    "tags": []
   },
   "outputs": [
    {
     "data": {
      "text/plain": [
       "22"
      ]
     },
     "execution_count": 20,
     "metadata": {},
     "output_type": "execute_result"
    }
   ],
   "source": [
    "gidnet_qubit_reuse_set = compute_qubit_reuse_sets(qiskit_circuits[0], improved_gidnet=True)\n",
    "len(gidnet_qubit_reuse_set)"
   ]
  },
  {
   "cell_type": "code",
   "execution_count": null,
   "id": "924c72f4-a4d0-4cf2-953b-fa8f5742b2bb",
   "metadata": {
    "tags": []
   },
   "outputs": [],
   "source": [
    "qnet_qubit_reuse_set = compute_qnet_qubit_reuse_list(qnet_circuits[0], method=\"random\", shots=10)\n",
    "len(qnet_qubit_reuse_set)"
   ]
  },
  {
   "cell_type": "code",
   "execution_count": null,
   "id": "0e722f78-07ef-459c-b8b4-d7b8a202ee73",
   "metadata": {},
   "outputs": [],
   "source": []
  },
  {
   "cell_type": "code",
   "execution_count": null,
   "id": "6d73250e-4fa2-445d-84c4-eebb896c266d",
   "metadata": {},
   "outputs": [],
   "source": []
  },
  {
   "cell_type": "code",
   "execution_count": null,
   "id": "f9d33f6d-5ee1-47c2-9a42-096530bafdf9",
   "metadata": {},
   "outputs": [],
   "source": []
  },
  {
   "cell_type": "code",
   "execution_count": null,
   "id": "955a656a-7116-4646-b9eb-a11b8f7ffdae",
   "metadata": {},
   "outputs": [],
   "source": [
    "gidnet_plus_average_time\n",
    "gidnet_plus_std_time \n",
    "gidnet_plus_average_qubit_width\n",
    "gidnet_plus_std_qubit_width\n",
    "\n",
    "qnet_average_time\n",
    "qnet_std_time\n",
    "qnet_average_qubit_width\n",
    "qnet_std_qubit_width"
   ]
  },
  {
   "cell_type": "code",
   "execution_count": null,
   "id": "e3b8f6cf-a88b-4de5-8a4b-d0dcac495229",
   "metadata": {},
   "outputs": [],
   "source": []
  },
  {
   "cell_type": "code",
   "execution_count": 3,
   "id": "98552e03-9b25-4fe4-b312-7499760f7576",
   "metadata": {
    "tags": []
   },
   "outputs": [
    {
     "data": {
      "text/plain": [
       "[11.713535470542515]"
      ]
     },
     "execution_count": 3,
     "metadata": {},
     "output_type": "execute_result"
    }
   ],
   "source": [
    "gidnet_plus_average_time"
   ]
  },
  {
   "cell_type": "code",
   "execution_count": 4,
   "id": "09b04b54-9342-49ff-8485-c3c6a1ee6f2b",
   "metadata": {
    "tags": []
   },
   "outputs": [
    {
     "data": {
      "text/plain": [
       "[424.8753110960847]"
      ]
     },
     "execution_count": 4,
     "metadata": {},
     "output_type": "execute_result"
    }
   ],
   "source": [
    "qnet_average_time"
   ]
  },
  {
   "cell_type": "code",
   "execution_count": 5,
   "id": "08c34d0f-d202-4e48-9990-7f17d59a8bf1",
   "metadata": {
    "tags": []
   },
   "outputs": [
    {
     "data": {
      "text/plain": [
       "[21.8]"
      ]
     },
     "execution_count": 5,
     "metadata": {},
     "output_type": "execute_result"
    }
   ],
   "source": [
    "gidnet_plus_average_qubit_width"
   ]
  },
  {
   "cell_type": "code",
   "execution_count": 6,
   "id": "7ae97edf-b88f-4968-a32e-ff2a5bb2a5ce",
   "metadata": {
    "tags": []
   },
   "outputs": [
    {
     "data": {
      "text/plain": [
       "[22.2]"
      ]
     },
     "execution_count": 6,
     "metadata": {},
     "output_type": "execute_result"
    }
   ],
   "source": [
    "qnet_average_qubit_width"
   ]
  },
  {
   "cell_type": "code",
   "execution_count": null,
   "id": "fd921c8c-6452-4c48-9fb2-ef0e44d77cf4",
   "metadata": {},
   "outputs": [],
   "source": []
  }
 ],
 "metadata": {
  "kernelspec": {
   "display_name": "phd-env",
   "language": "python",
   "name": "phd-env"
  },
  "language_info": {
   "codemirror_mode": {
    "name": "ipython",
    "version": 3
   },
   "file_extension": ".py",
   "mimetype": "text/x-python",
   "name": "python",
   "nbconvert_exporter": "python",
   "pygments_lexer": "ipython3",
   "version": "3.10.9"
  }
 },
 "nbformat": 4,
 "nbformat_minor": 5
}
