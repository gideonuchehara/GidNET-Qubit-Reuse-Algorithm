{
 "cells": [
  {
   "cell_type": "code",
   "execution_count": null,
   "id": "47d0a271-8e6a-42dd-84ae-fa27a9378175",
   "metadata": {},
   "outputs": [],
   "source": []
  },
  {
   "cell_type": "code",
   "execution_count": 1,
   "id": "f611e0c0-5e15-46bd-aaa6-5060361a525f",
   "metadata": {
    "tags": []
   },
   "outputs": [],
   "source": [
    "from gidnet_qubit_reuse_algorithm.gidnet_qra import (compile_dynamic_circuit,\n",
    "                                                     create_qiskit_and_qnet_QAOA_circuits,\n",
    "                                                     compute_qubit_reuse_sets, \n",
    "                                                     generate_dynamic_circuit,)\n",
    "from biadu_qnet_qubit_reuse.baidu_qnet_qr import (compute_qnet_qubit_reuse_list, \n",
    "                                                  from_qiskit_to_qnet,\n",
    "                                                 compute_qnet_qubit_reuse_list_timing)\n",
    "from helper_functions.benchmarks import generate_circ\n",
    "import time"
   ]
  },
  {
   "cell_type": "code",
   "execution_count": null,
   "id": "890dab60-e5e6-4c45-8ba8-8ec9d122ff23",
   "metadata": {
    "tags": []
   },
   "outputs": [
    {
     "name": "stdout",
     "output_type": "stream",
     "text": [
      "circuit 1 running\n",
      "8.54 ms ± 221 µs per loop (mean ± std. dev. of 7 runs, 100 loops each)\n",
      "8.72 ms ± 368 µs per loop (mean ± std. dev. of 7 runs, 100 loops each)\n",
      "8.61 ms ± 183 µs per loop (mean ± std. dev. of 7 runs, 100 loops each)\n",
      "9.15 ms ± 578 µs per loop (mean ± std. dev. of 7 runs, 100 loops each)\n",
      "9.12 ms ± 400 µs per loop (mean ± std. dev. of 7 runs, 100 loops each)\n"
     ]
    }
   ],
   "source": [
    "circuit_sizes = [6, 10, 14, 18, 22, 26, 30, 34, 38, 42, 46, 50]\n",
    "\n",
    "gidnet_plus_average_time = []\n",
    "gidnet_plus_std_time = []\n",
    "gidnet_plus_average_qubit_width = []\n",
    "\n",
    "\n",
    "\n",
    "# Set the number of random graph for each qubit number\n",
    "seed_num = 20 # this should be set to 20\n",
    "\n",
    "# Set the number of QAOA unitary layers\n",
    "layer_num = 2\n",
    "\n",
    "for i, q in enumerate(circuit_sizes):\n",
    "    print(\"circuit\", i+1, \"running\")\n",
    "    # create temporary data holders for intermediate results\n",
    "    tmp_gidnet_plus_average_time = []\n",
    "    tmp_gidnet_plus_std_time = []\n",
    "    tmp_gidnet_plus_qubit_width = []\n",
    "\n",
    "    gidnet_circuits, _ = create_qiskit_and_qnet_QAOA_circuits(q, seed_num, layer_num)\n",
    "\n",
    "    for circuit in gidnet_circuits:\n",
    "\n",
    "        gidnet_plus_time = %timeit -o compile_dynamic_circuit(circuit, algorithm_type=\"gidnet\", improved_gidnet=True)\n",
    "\n",
    "        compiled_gidnet_circuit = compile_dynamic_circuit(circuit, algorithm_type=\"gidnet\",\n",
    "                                                          improved_gidnet=True)\n",
    "\n",
    "        tmp_gidnet_plus_average_time.append(gidnet_plus_time.average)\n",
    "        tmp_gidnet_plus_std_time.append(gidnet_plus_time.stdev)\n",
    "        tmp_gidnet_plus_qubit_width.append(compiled_gidnet_circuit.num_qubits)\n",
    "\n",
    "    \n",
    "\n",
    "    # Data colation\n",
    "    import numpy as np\n",
    "    gidnet_plus_average_time.append(tmp_gidnet_plus_average_time)\n",
    "    gidnet_plus_std_time.append(tmp_gidnet_plus_std_time)\n",
    "    gidnet_plus_average_qubit_width.append(tmp_gidnet_plus_qubit_width)        \n"
   ]
  },
  {
   "cell_type": "code",
   "execution_count": null,
   "id": "8ad26929-9ab5-4948-ae02-5eb46686dd89",
   "metadata": {
    "tags": []
   },
   "outputs": [],
   "source": [
    "gidnet_circuits[0].draw(\"mpl\")"
   ]
  },
  {
   "cell_type": "code",
   "execution_count": null,
   "id": "25a4e1e9-4805-4873-8c38-593a74a236d1",
   "metadata": {
    "tags": []
   },
   "outputs": [],
   "source": [
    "import pandas as pd\n",
    "# Convert lists to a dictionary\n",
    "data = {\n",
    "    'Circuit Sizes': circuit_sizes,\n",
    "    'GidNET Average Runtime': gidnet_plus_average_time,  # Added comma\n",
    "    'GidNET Stdev Runtime': gidnet_plus_std_time,  # Added comma\n",
    "    'GidNET Width': gidnet_plus_average_qubit_width,\n",
    "}\n",
    "\n",
    "# Assuming pandas is imported as pd\n",
    "import pandas as pd\n",
    "\n",
    "# Convert dictionary to DataFrame\n",
    "df = pd.DataFrame(data)\n",
    "\n",
    "# Save DataFrame to CSV\n",
    "df.to_csv('data_qaoa_cct/GidNET_width_and_runtime_qaoa_p2_data_complete.csv', index=False)\n"
   ]
  },
  {
   "cell_type": "code",
   "execution_count": null,
   "id": "5bba8cd4-8aa1-4b1e-8c9d-a450aa740124",
   "metadata": {
    "tags": []
   },
   "outputs": [],
   "source": [
    "df"
   ]
  },
  {
   "cell_type": "code",
   "execution_count": null,
   "id": "206ff195-7597-4c13-ba36-706c21137538",
   "metadata": {},
   "outputs": [],
   "source": []
  },
  {
   "cell_type": "code",
   "execution_count": null,
   "id": "59b153c2-f0af-4812-9b1b-83012c130751",
   "metadata": {},
   "outputs": [],
   "source": []
  }
 ],
 "metadata": {
  "kernelspec": {
   "display_name": "phd-env",
   "language": "python",
   "name": "phd-env"
  },
  "language_info": {
   "codemirror_mode": {
    "name": "ipython",
    "version": 3
   },
   "file_extension": ".py",
   "mimetype": "text/x-python",
   "name": "python",
   "nbconvert_exporter": "python",
   "pygments_lexer": "ipython3",
   "version": "3.10.9"
  }
 },
 "nbformat": 4,
 "nbformat_minor": 5
}
