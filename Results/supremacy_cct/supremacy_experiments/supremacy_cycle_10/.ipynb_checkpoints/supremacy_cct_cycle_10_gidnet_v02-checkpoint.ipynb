{
 "cells": [
  {
   "cell_type": "code",
   "execution_count": null,
   "id": "47d0a271-8e6a-42dd-84ae-fa27a9378175",
   "metadata": {},
   "outputs": [],
   "source": []
  },
  {
   "cell_type": "code",
   "execution_count": 1,
   "id": "c8cdf5ed-e828-4567-9570-e8adf4b8121a",
   "metadata": {},
   "outputs": [],
   "source": [
    "from gidnet_qubit_reuse_algorithm.gidnet_qra import (modified_compile_dynamic_circuit\n",
    "                                                    )\n",
    "\n",
    "from helper_functions.benchmarks import generate_circ\n",
    "from qiskit import QuantumCircuit\n",
    "import numpy as np"
   ]
  },
  {
   "cell_type": "code",
   "execution_count": 2,
   "id": "6225d96b-94f7-4979-87f1-df4800c40f82",
   "metadata": {
    "tags": []
   },
   "outputs": [],
   "source": [
    "from gidnet_qubit_reuse_algorithm.gidnet_qra import (safe_eval,\n",
    "                                                     create_qiskit_and_qnet_GRCS_circuits,)\n",
    "import time\n",
    "import os"
   ]
  },
  {
   "cell_type": "code",
   "execution_count": 3,
   "id": "6bda651e-f5a4-427a-8ef3-1f6b94c9e660",
   "metadata": {
    "tags": []
   },
   "outputs": [],
   "source": [
    "# modified_compile_dynamic_circuit(qiskit_circuit, shots=random_shots, algorithm_type=\"gidnet\",\n",
    "#                                                       improved_gidnet=False)"
   ]
  },
  {
   "cell_type": "code",
   "execution_count": 4,
   "id": "65905970-6c4b-4ef8-b737-2ab8c060188c",
   "metadata": {
    "tags": []
   },
   "outputs": [
    {
     "name": "stdout",
     "output_type": "stream",
     "text": [
      "circuit 1 running\n",
      "qubit_reuse_list =  [[14, 3, 4], [13, 11, 2, 5], [15, 0], [10, 1], [6], [7], [8], [9], [12]]\n",
      "old_to_new_qubit_remap_dict =  {14: 0, 3: 0, 4: 0, 13: 1, 11: 1, 2: 1, 5: 1, 15: 2, 0: 2, 10: 3, 1: 3, 6: 4, 7: 5, 8: 6, 9: 7, 12: 8}\n",
      "qubit_reuse_list =  [[14, 2, 4], [10, 3, 5], [13, 11, 0], [15, 1], [6], [7], [8], [9], [12]]\n",
      "old_to_new_qubit_remap_dict =  {14: 0, 2: 0, 4: 0, 10: 1, 3: 1, 5: 1, 13: 2, 11: 2, 0: 2, 15: 3, 1: 3, 6: 4, 7: 5, 8: 6, 9: 7, 12: 8}\n",
      "qubit_reuse_list =  [[13, 11, 3, 4], [14, 2, 5], [15, 0], [10, 1], [6], [7], [8], [9], [12]]\n",
      "old_to_new_qubit_remap_dict =  {13: 0, 11: 0, 3: 0, 4: 0, 14: 1, 2: 1, 5: 1, 15: 2, 0: 2, 10: 3, 1: 3, 6: 4, 7: 5, 8: 6, 9: 7, 12: 8}\n",
      "qubit_reuse_list =  [[12, 15, 5, 3], [9, 2], [10, 0], [14, 1], [13, 11], [8], [4], [6], [7]]\n",
      "old_to_new_qubit_remap_dict =  {12: 0, 15: 0, 5: 0, 3: 0, 9: 1, 2: 1, 10: 2, 0: 2, 14: 3, 1: 3, 13: 4, 11: 4, 8: 5, 4: 6, 6: 7, 7: 8}\n",
      "qubit_reuse_list =  [[13, 11, 2, 4], [14, 3, 5], [10, 0], [15, 1], [6], [7], [8], [9], [12]]\n",
      "old_to_new_qubit_remap_dict =  {13: 0, 11: 0, 2: 0, 4: 0, 14: 1, 3: 1, 5: 1, 10: 2, 0: 2, 15: 3, 1: 3, 6: 4, 7: 5, 8: 6, 9: 7, 12: 8}\n",
      "qubit_reuse_list =  [[10, 2, 4], [12, 5], [13, 11, 0], [15, 1], [14, 3], [8], [9], [6], [7]]\n",
      "old_to_new_qubit_remap_dict =  {10: 0, 2: 0, 4: 0, 12: 1, 5: 1, 13: 2, 11: 2, 0: 2, 15: 3, 1: 3, 14: 4, 3: 4, 8: 5, 9: 6, 6: 7, 7: 8}\n",
      "qubit_reuse_list =  [[10, 2, 4], [11, 13, 3, 5], [14, 0], [15, 1], [6], [7], [8], [9], [12]]\n",
      "old_to_new_qubit_remap_dict =  {10: 0, 2: 0, 4: 0, 11: 1, 13: 1, 3: 1, 5: 1, 14: 2, 0: 2, 15: 3, 1: 3, 6: 4, 7: 5, 8: 6, 9: 7, 12: 8}\n",
      "qubit_reuse_list =  [[12, 15, 5, 3], [9, 2], [10, 0], [13, 11, 1], [4], [6], [7], [8], [14]]\n",
      "old_to_new_qubit_remap_dict =  {12: 0, 15: 0, 5: 0, 3: 0, 9: 1, 2: 1, 10: 2, 0: 2, 13: 3, 11: 3, 1: 3, 4: 4, 6: 5, 7: 6, 8: 7, 14: 8}\n",
      "qubit_reuse_list =  [[10, 2, 4], [13, 11, 3, 5], [15, 0], [14, 1], [6], [7], [8], [9], [12]]\n",
      "old_to_new_qubit_remap_dict =  {10: 0, 2: 0, 4: 0, 13: 1, 11: 1, 3: 1, 5: 1, 15: 2, 0: 2, 14: 3, 1: 3, 6: 4, 7: 5, 8: 6, 9: 7, 12: 8}\n",
      "qubit_reuse_list =  [[10, 3, 4], [12, 5], [14, 0], [13, 11, 1], [15, 2], [8], [9], [6], [7]]\n",
      "old_to_new_qubit_remap_dict =  {10: 0, 3: 0, 4: 0, 12: 1, 5: 1, 14: 2, 0: 2, 13: 3, 11: 3, 1: 3, 15: 4, 2: 4, 8: 5, 9: 6, 6: 7, 7: 8}\n",
      "qubit_reuse_list =  [[10, 2, 4], [14, 3, 5], [13, 11, 0], [15, 1], [6], [7], [8], [9], [12]]\n",
      "old_to_new_qubit_remap_dict =  {10: 0, 2: 0, 4: 0, 14: 1, 3: 1, 5: 1, 13: 2, 11: 2, 0: 2, 15: 3, 1: 3, 6: 4, 7: 5, 8: 6, 9: 7, 12: 8}\n",
      "qubit_reuse_list =  [[14, 3, 4], [10, 2, 5], [13, 11, 0], [15, 1], [6], [7], [8], [9], [12]]\n",
      "old_to_new_qubit_remap_dict =  {14: 0, 3: 0, 4: 0, 10: 1, 2: 1, 5: 1, 13: 2, 11: 2, 0: 2, 15: 3, 1: 3, 6: 4, 7: 5, 8: 6, 9: 7, 12: 8}\n",
      "qubit_reuse_list =  [[15, 2, 4], [14, 3, 5], [10, 0], [13, 11, 1], [6], [7], [8], [9], [12]]\n",
      "old_to_new_qubit_remap_dict =  {15: 0, 2: 0, 4: 0, 14: 1, 3: 1, 5: 1, 10: 2, 0: 2, 13: 3, 11: 3, 1: 3, 6: 4, 7: 5, 8: 6, 9: 7, 12: 8}\n",
      "qubit_reuse_list =  [[11, 13, 3, 4], [12, 5], [10, 0], [14, 1], [15, 2], [8], [9], [6], [7]]\n",
      "old_to_new_qubit_remap_dict =  {11: 0, 13: 0, 3: 0, 4: 0, 12: 1, 5: 1, 10: 2, 0: 2, 14: 3, 1: 3, 15: 4, 2: 4, 8: 5, 9: 6, 6: 7, 7: 8}\n",
      "qubit_reuse_list =  [[14, 3, 4], [12, 5], [11, 13, 0], [10, 1], [15, 2], [8], [9], [6], [7]]\n",
      "old_to_new_qubit_remap_dict =  {14: 0, 3: 0, 4: 0, 12: 1, 5: 1, 11: 2, 13: 2, 0: 2, 10: 3, 1: 3, 15: 4, 2: 4, 8: 5, 9: 6, 6: 7, 7: 8}\n",
      "qubit_reuse_list =  [[13, 11, 3, 4], [12, 5], [14, 0], [15, 1], [10, 2], [8], [9], [6], [7]]\n",
      "old_to_new_qubit_remap_dict =  {13: 0, 11: 0, 3: 0, 4: 0, 12: 1, 5: 1, 14: 2, 0: 2, 15: 3, 1: 3, 10: 4, 2: 4, 8: 5, 9: 6, 6: 7, 7: 8}\n",
      "qubit_reuse_list =  [[14, 2, 4], [15, 3, 5], [11, 13, 0], [10, 1], [6], [7], [8], [9], [12]]\n",
      "old_to_new_qubit_remap_dict =  {14: 0, 2: 0, 4: 0, 15: 1, 3: 1, 5: 1, 11: 2, 13: 2, 0: 2, 10: 3, 1: 3, 6: 4, 7: 5, 8: 6, 9: 7, 12: 8}\n",
      "qubit_reuse_list =  [[11, 13, 3, 4], [14, 2, 5], [10, 0], [15, 1], [6], [7], [8], [9], [12]]\n",
      "old_to_new_qubit_remap_dict =  {11: 0, 13: 0, 3: 0, 4: 0, 14: 1, 2: 1, 5: 1, 10: 2, 0: 2, 15: 3, 1: 3, 6: 4, 7: 5, 8: 6, 9: 7, 12: 8}\n",
      "qubit_reuse_list =  [[14, 2, 4], [15, 3, 5], [10, 0], [13, 11, 1], [6], [7], [8], [9], [12]]\n",
      "old_to_new_qubit_remap_dict =  {14: 0, 2: 0, 4: 0, 15: 1, 3: 1, 5: 1, 10: 2, 0: 2, 13: 3, 11: 3, 1: 3, 6: 4, 7: 5, 8: 6, 9: 7, 12: 8}\n",
      "qubit_reuse_list =  [[13, 11, 3, 4], [10, 2, 5], [15, 0], [14, 1], [6], [7], [8], [9], [12]]\n",
      "old_to_new_qubit_remap_dict =  {13: 0, 11: 0, 3: 0, 4: 0, 10: 1, 2: 1, 5: 1, 15: 2, 0: 2, 14: 3, 1: 3, 6: 4, 7: 5, 8: 6, 9: 7, 12: 8}\n",
      "qubit_reuse_list =  [[11, 13, 3, 4], [14, 2, 5], [15, 0], [10, 1], [6], [7], [8], [9], [12]]\n",
      "old_to_new_qubit_remap_dict =  {11: 0, 13: 0, 3: 0, 4: 0, 14: 1, 2: 1, 5: 1, 15: 2, 0: 2, 10: 3, 1: 3, 6: 4, 7: 5, 8: 6, 9: 7, 12: 8}\n",
      "qubit_reuse_list =  [[11, 13, 2, 4], [15, 3, 5], [14, 0], [10, 1], [6], [7], [8], [9], [12]]\n",
      "old_to_new_qubit_remap_dict =  {11: 0, 13: 0, 2: 0, 4: 0, 15: 1, 3: 1, 5: 1, 14: 2, 0: 2, 10: 3, 1: 3, 6: 4, 7: 5, 8: 6, 9: 7, 12: 8}\n",
      "qubit_reuse_list =  [[10, 2, 4], [11, 13, 3, 5], [15, 0], [14, 1], [6], [7], [8], [9], [12]]\n",
      "old_to_new_qubit_remap_dict =  {10: 0, 2: 0, 4: 0, 11: 1, 13: 1, 3: 1, 5: 1, 15: 2, 0: 2, 14: 3, 1: 3, 6: 4, 7: 5, 8: 6, 9: 7, 12: 8}\n",
      "qubit_reuse_list =  [[11, 13, 3, 4], [15, 2, 5], [14, 0], [10, 1], [6], [7], [8], [9], [12]]\n",
      "old_to_new_qubit_remap_dict =  {11: 0, 13: 0, 3: 0, 4: 0, 15: 1, 2: 1, 5: 1, 14: 2, 0: 2, 10: 3, 1: 3, 6: 4, 7: 5, 8: 6, 9: 7, 12: 8}\n",
      "qubit_reuse_list =  [[13, 11, 2, 4], [12, 5], [14, 0], [15, 1], [10, 3], [8], [9], [6], [7]]\n",
      "old_to_new_qubit_remap_dict =  {13: 0, 11: 0, 2: 0, 4: 0, 12: 1, 5: 1, 14: 2, 0: 2, 15: 3, 1: 3, 10: 4, 3: 4, 8: 5, 9: 6, 6: 7, 7: 8}\n",
      "qubit_reuse_list =  [[15, 3, 4], [12, 5], [10, 0], [13, 11, 1], [14, 2], [8], [9], [6], [7]]\n",
      "old_to_new_qubit_remap_dict =  {15: 0, 3: 0, 4: 0, 12: 1, 5: 1, 10: 2, 0: 2, 13: 3, 11: 3, 1: 3, 14: 4, 2: 4, 8: 5, 9: 6, 6: 7, 7: 8}\n",
      "qubit_reuse_list =  [[13, 11, 3, 4], [15, 2, 5], [10, 0], [14, 1], [6], [7], [8], [9], [12]]\n",
      "old_to_new_qubit_remap_dict =  {13: 0, 11: 0, 3: 0, 4: 0, 15: 1, 2: 1, 5: 1, 10: 2, 0: 2, 14: 3, 1: 3, 6: 4, 7: 5, 8: 6, 9: 7, 12: 8}\n",
      "qubit_reuse_list =  [[13, 11, 2, 4], [10, 3, 5], [15, 0], [14, 1], [6], [7], [8], [9], [12]]\n",
      "old_to_new_qubit_remap_dict =  {13: 0, 11: 0, 2: 0, 4: 0, 10: 1, 3: 1, 5: 1, 15: 2, 0: 2, 14: 3, 1: 3, 6: 4, 7: 5, 8: 6, 9: 7, 12: 8}\n",
      "qubit_reuse_list =  [[10, 2, 4], [11, 13, 3, 5], [15, 0], [14, 1], [6], [7], [8], [9], [12]]\n",
      "old_to_new_qubit_remap_dict =  {10: 0, 2: 0, 4: 0, 11: 1, 13: 1, 3: 1, 5: 1, 15: 2, 0: 2, 14: 3, 1: 3, 6: 4, 7: 5, 8: 6, 9: 7, 12: 8}\n",
      "qubit_reuse_list =  [[15, 2, 4], [14, 3, 5], [10, 0], [13, 11, 1], [6], [7], [8], [9], [12]]\n",
      "old_to_new_qubit_remap_dict =  {15: 0, 2: 0, 4: 0, 14: 1, 3: 1, 5: 1, 10: 2, 0: 2, 13: 3, 11: 3, 1: 3, 6: 4, 7: 5, 8: 6, 9: 7, 12: 8}\n",
      "qubit_reuse_list =  [[10, 3, 4], [14, 2, 5], [11, 13, 0], [15, 1], [6], [7], [8], [9], [12]]\n",
      "old_to_new_qubit_remap_dict =  {10: 0, 3: 0, 4: 0, 14: 1, 2: 1, 5: 1, 11: 2, 13: 2, 0: 2, 15: 3, 1: 3, 6: 4, 7: 5, 8: 6, 9: 7, 12: 8}\n",
      "qubit_reuse_list =  [[15, 2, 4], [14, 3, 5], [10, 0], [13, 11, 1], [6], [7], [8], [9], [12]]\n",
      "old_to_new_qubit_remap_dict =  {15: 0, 2: 0, 4: 0, 14: 1, 3: 1, 5: 1, 10: 2, 0: 2, 13: 3, 11: 3, 1: 3, 6: 4, 7: 5, 8: 6, 9: 7, 12: 8}\n",
      "qubit_reuse_list =  [[15, 2, 4], [13, 11, 3, 5], [14, 0], [10, 1], [6], [7], [8], [9], [12]]\n",
      "old_to_new_qubit_remap_dict =  {15: 0, 2: 0, 4: 0, 13: 1, 11: 1, 3: 1, 5: 1, 14: 2, 0: 2, 10: 3, 1: 3, 6: 4, 7: 5, 8: 6, 9: 7, 12: 8}\n",
      "qubit_reuse_list =  [[14, 2, 4], [13, 11, 3, 5], [10, 0], [15, 1], [6], [7], [8], [9], [12]]\n",
      "old_to_new_qubit_remap_dict =  {14: 0, 2: 0, 4: 0, 13: 1, 11: 1, 3: 1, 5: 1, 10: 2, 0: 2, 15: 3, 1: 3, 6: 4, 7: 5, 8: 6, 9: 7, 12: 8}\n",
      "qubit_reuse_list =  [[13, 11, 2, 4], [14, 3, 5], [15, 0], [10, 1], [6], [7], [8], [9], [12]]\n",
      "old_to_new_qubit_remap_dict =  {13: 0, 11: 0, 2: 0, 4: 0, 14: 1, 3: 1, 5: 1, 15: 2, 0: 2, 10: 3, 1: 3, 6: 4, 7: 5, 8: 6, 9: 7, 12: 8}\n",
      "qubit_reuse_list =  [[12, 15, 0, 3], [4, 2], [10, 1], [14, 5], [13, 11], [8], [9], [6], [7]]\n",
      "old_to_new_qubit_remap_dict =  {12: 0, 15: 0, 0: 0, 3: 0, 4: 1, 2: 1, 10: 2, 1: 2, 14: 3, 5: 3, 13: 4, 11: 4, 8: 5, 9: 6, 6: 7, 7: 8}\n",
      "qubit_reuse_list =  [[14, 2, 4], [11, 13, 3, 5], [15, 0], [10, 1], [6], [7], [8], [9], [12]]\n",
      "old_to_new_qubit_remap_dict =  {14: 0, 2: 0, 4: 0, 11: 1, 13: 1, 3: 1, 5: 1, 15: 2, 0: 2, 10: 3, 1: 3, 6: 4, 7: 5, 8: 6, 9: 7, 12: 8}\n",
      "qubit_reuse_list =  [[11, 13, 3, 4], [14, 2, 5], [10, 0], [15, 1], [6], [7], [8], [9], [12]]\n",
      "old_to_new_qubit_remap_dict =  {11: 0, 13: 0, 3: 0, 4: 0, 14: 1, 2: 1, 5: 1, 10: 2, 0: 2, 15: 3, 1: 3, 6: 4, 7: 5, 8: 6, 9: 7, 12: 8}\n",
      "qubit_reuse_list =  [[10, 3, 4], [15, 2, 5], [14, 0], [11, 13, 1], [6], [7], [8], [9], [12]]\n",
      "old_to_new_qubit_remap_dict =  {10: 0, 3: 0, 4: 0, 15: 1, 2: 1, 5: 1, 14: 2, 0: 2, 11: 3, 13: 3, 1: 3, 6: 4, 7: 5, 8: 6, 9: 7, 12: 8}\n",
      "qubit_reuse_list =  [[14, 3, 4], [10, 2, 5], [15, 0], [11, 13, 1], [6], [7], [8], [9], [12]]\n",
      "old_to_new_qubit_remap_dict =  {14: 0, 3: 0, 4: 0, 10: 1, 2: 1, 5: 1, 15: 2, 0: 2, 11: 3, 13: 3, 1: 3, 6: 4, 7: 5, 8: 6, 9: 7, 12: 8}\n",
      "qubit_reuse_list =  [[13, 11, 2, 4], [12, 5], [14, 0], [10, 1], [15, 3], [8], [9], [6], [7]]\n",
      "old_to_new_qubit_remap_dict =  {13: 0, 11: 0, 2: 0, 4: 0, 12: 1, 5: 1, 14: 2, 0: 2, 10: 3, 1: 3, 15: 4, 3: 4, 8: 5, 9: 6, 6: 7, 7: 8}\n",
      "qubit_reuse_list =  [[10, 3, 4], [11, 13, 2, 5], [14, 0], [15, 1], [6], [7], [8], [9], [12]]\n",
      "old_to_new_qubit_remap_dict =  {10: 0, 3: 0, 4: 0, 11: 1, 13: 1, 2: 1, 5: 1, 14: 2, 0: 2, 15: 3, 1: 3, 6: 4, 7: 5, 8: 6, 9: 7, 12: 8}\n",
      "qubit_reuse_list =  [[10, 3, 4], [13, 11, 2, 5], [14, 0], [15, 1], [6], [7], [8], [9], [12]]\n",
      "old_to_new_qubit_remap_dict =  {10: 0, 3: 0, 4: 0, 13: 1, 11: 1, 2: 1, 5: 1, 14: 2, 0: 2, 15: 3, 1: 3, 6: 4, 7: 5, 8: 6, 9: 7, 12: 8}\n"
     ]
    },
    {
     "ename": "KeyboardInterrupt",
     "evalue": "",
     "output_type": "error",
     "traceback": [
      "\u001b[0;31m---------------------------------------------------------------------------\u001b[0m",
      "\u001b[0;31mKeyboardInterrupt\u001b[0m                         Traceback (most recent call last)",
      "Cell \u001b[0;32mIn[4], line 17\u001b[0m\n\u001b[1;32m     14\u001b[0m \u001b[38;5;28mprint\u001b[39m(\u001b[38;5;124m\"\u001b[39m\u001b[38;5;124mcircuit\u001b[39m\u001b[38;5;124m\"\u001b[39m, i\u001b[38;5;241m+\u001b[39m\u001b[38;5;241m1\u001b[39m, \u001b[38;5;124m\"\u001b[39m\u001b[38;5;124mrunning\u001b[39m\u001b[38;5;124m\"\u001b[39m)\n\u001b[1;32m     15\u001b[0m qiskit_circuit, _ \u001b[38;5;241m=\u001b[39m create_qiskit_and_qnet_GRCS_circuits(num_qubits, cycle_num, directory_path)\n\u001b[0;32m---> 17\u001b[0m gidnet_plus_time \u001b[38;5;241m=\u001b[39m \u001b[43mget_ipython\u001b[49m\u001b[43m(\u001b[49m\u001b[43m)\u001b[49m\u001b[38;5;241;43m.\u001b[39;49m\u001b[43mrun_line_magic\u001b[49m\u001b[43m(\u001b[49m\u001b[38;5;124;43m'\u001b[39;49m\u001b[38;5;124;43mtimeit\u001b[39;49m\u001b[38;5;124;43m'\u001b[39;49m\u001b[43m,\u001b[49m\u001b[43m \u001b[49m\u001b[38;5;124;43m'\u001b[39;49m\u001b[38;5;124;43m-o modified_compile_dynamic_circuit(qiskit_circuit, shots=random_shots, algorithm_type=\u001b[39;49m\u001b[38;5;124;43m\"\u001b[39;49m\u001b[38;5;124;43mgidnet\u001b[39;49m\u001b[38;5;124;43m\"\u001b[39;49m\u001b[38;5;124;43m, improved_gidnet=False)\u001b[39;49m\u001b[38;5;124;43m'\u001b[39;49m\u001b[43m)\u001b[49m\n\u001b[1;32m     19\u001b[0m compiled_gidnet_circuit \u001b[38;5;241m=\u001b[39m modified_compile_dynamic_circuit(qiskit_circuit, shots\u001b[38;5;241m=\u001b[39mrandom_shots, algorithm_type\u001b[38;5;241m=\u001b[39m\u001b[38;5;124m\"\u001b[39m\u001b[38;5;124mgidnet\u001b[39m\u001b[38;5;124m\"\u001b[39m,\n\u001b[1;32m     20\u001b[0m                                                   improved_gidnet\u001b[38;5;241m=\u001b[39m\u001b[38;5;28;01mFalse\u001b[39;00m)\n\u001b[1;32m     22\u001b[0m \u001b[38;5;66;03m# Data colation\u001b[39;00m\n",
      "File \u001b[0;32m~/anaconda3/envs/phd-env/lib/python3.10/site-packages/IPython/core/interactiveshell.py:2417\u001b[0m, in \u001b[0;36mInteractiveShell.run_line_magic\u001b[0;34m(self, magic_name, line, _stack_depth)\u001b[0m\n\u001b[1;32m   2415\u001b[0m     kwargs[\u001b[38;5;124m'\u001b[39m\u001b[38;5;124mlocal_ns\u001b[39m\u001b[38;5;124m'\u001b[39m] \u001b[38;5;241m=\u001b[39m \u001b[38;5;28mself\u001b[39m\u001b[38;5;241m.\u001b[39mget_local_scope(stack_depth)\n\u001b[1;32m   2416\u001b[0m \u001b[38;5;28;01mwith\u001b[39;00m \u001b[38;5;28mself\u001b[39m\u001b[38;5;241m.\u001b[39mbuiltin_trap:\n\u001b[0;32m-> 2417\u001b[0m     result \u001b[38;5;241m=\u001b[39m \u001b[43mfn\u001b[49m\u001b[43m(\u001b[49m\u001b[38;5;241;43m*\u001b[39;49m\u001b[43margs\u001b[49m\u001b[43m,\u001b[49m\u001b[43m \u001b[49m\u001b[38;5;241;43m*\u001b[39;49m\u001b[38;5;241;43m*\u001b[39;49m\u001b[43mkwargs\u001b[49m\u001b[43m)\u001b[49m\n\u001b[1;32m   2419\u001b[0m \u001b[38;5;66;03m# The code below prevents the output from being displayed\u001b[39;00m\n\u001b[1;32m   2420\u001b[0m \u001b[38;5;66;03m# when using magics with decodator @output_can_be_silenced\u001b[39;00m\n\u001b[1;32m   2421\u001b[0m \u001b[38;5;66;03m# when the last Python token in the expression is a ';'.\u001b[39;00m\n\u001b[1;32m   2422\u001b[0m \u001b[38;5;28;01mif\u001b[39;00m \u001b[38;5;28mgetattr\u001b[39m(fn, magic\u001b[38;5;241m.\u001b[39mMAGIC_OUTPUT_CAN_BE_SILENCED, \u001b[38;5;28;01mFalse\u001b[39;00m):\n",
      "File \u001b[0;32m~/anaconda3/envs/phd-env/lib/python3.10/site-packages/IPython/core/magics/execution.py:1174\u001b[0m, in \u001b[0;36mExecutionMagics.timeit\u001b[0;34m(self, line, cell, local_ns)\u001b[0m\n\u001b[1;32m   1171\u001b[0m         \u001b[38;5;28;01mif\u001b[39;00m time_number \u001b[38;5;241m>\u001b[39m\u001b[38;5;241m=\u001b[39m \u001b[38;5;241m0.2\u001b[39m:\n\u001b[1;32m   1172\u001b[0m             \u001b[38;5;28;01mbreak\u001b[39;00m\n\u001b[0;32m-> 1174\u001b[0m all_runs \u001b[38;5;241m=\u001b[39m \u001b[43mtimer\u001b[49m\u001b[38;5;241;43m.\u001b[39;49m\u001b[43mrepeat\u001b[49m\u001b[43m(\u001b[49m\u001b[43mrepeat\u001b[49m\u001b[43m,\u001b[49m\u001b[43m \u001b[49m\u001b[43mnumber\u001b[49m\u001b[43m)\u001b[49m\n\u001b[1;32m   1175\u001b[0m best \u001b[38;5;241m=\u001b[39m \u001b[38;5;28mmin\u001b[39m(all_runs) \u001b[38;5;241m/\u001b[39m number\n\u001b[1;32m   1176\u001b[0m worst \u001b[38;5;241m=\u001b[39m \u001b[38;5;28mmax\u001b[39m(all_runs) \u001b[38;5;241m/\u001b[39m number\n",
      "File \u001b[0;32m~/anaconda3/envs/phd-env/lib/python3.10/timeit.py:206\u001b[0m, in \u001b[0;36mTimer.repeat\u001b[0;34m(self, repeat, number)\u001b[0m\n\u001b[1;32m    204\u001b[0m r \u001b[38;5;241m=\u001b[39m []\n\u001b[1;32m    205\u001b[0m \u001b[38;5;28;01mfor\u001b[39;00m i \u001b[38;5;129;01min\u001b[39;00m \u001b[38;5;28mrange\u001b[39m(repeat):\n\u001b[0;32m--> 206\u001b[0m     t \u001b[38;5;241m=\u001b[39m \u001b[38;5;28;43mself\u001b[39;49m\u001b[38;5;241;43m.\u001b[39;49m\u001b[43mtimeit\u001b[49m\u001b[43m(\u001b[49m\u001b[43mnumber\u001b[49m\u001b[43m)\u001b[49m\n\u001b[1;32m    207\u001b[0m     r\u001b[38;5;241m.\u001b[39mappend(t)\n\u001b[1;32m    208\u001b[0m \u001b[38;5;28;01mreturn\u001b[39;00m r\n",
      "File \u001b[0;32m~/anaconda3/envs/phd-env/lib/python3.10/site-packages/IPython/core/magics/execution.py:158\u001b[0m, in \u001b[0;36mTimer.timeit\u001b[0;34m(self, number)\u001b[0m\n\u001b[1;32m    156\u001b[0m gc\u001b[38;5;241m.\u001b[39mdisable()\n\u001b[1;32m    157\u001b[0m \u001b[38;5;28;01mtry\u001b[39;00m:\n\u001b[0;32m--> 158\u001b[0m     timing \u001b[38;5;241m=\u001b[39m \u001b[38;5;28;43mself\u001b[39;49m\u001b[38;5;241;43m.\u001b[39;49m\u001b[43minner\u001b[49m\u001b[43m(\u001b[49m\u001b[43mit\u001b[49m\u001b[43m,\u001b[49m\u001b[43m \u001b[49m\u001b[38;5;28;43mself\u001b[39;49m\u001b[38;5;241;43m.\u001b[39;49m\u001b[43mtimer\u001b[49m\u001b[43m)\u001b[49m\n\u001b[1;32m    159\u001b[0m \u001b[38;5;28;01mfinally\u001b[39;00m:\n\u001b[1;32m    160\u001b[0m     \u001b[38;5;28;01mif\u001b[39;00m gcold:\n",
      "File \u001b[0;32m<magic-timeit>:1\u001b[0m, in \u001b[0;36minner\u001b[0;34m(_it, _timer)\u001b[0m\n",
      "File \u001b[0;32m~/Projects/Circuit_Cutting_Qubit_Reuse/biclique-qubit-reuse/gidnet_qubit_reuse_algorithm/gidnet_qra.py:1687\u001b[0m, in \u001b[0;36mmodified_compile_dynamic_circuit\u001b[0;34m(circuit, shots, qnet_circuit, algorithm_type, improved_gidnet, qnet_method, qnet_shots, maximize_gidnet_depth, draw)\u001b[0m\n\u001b[1;32m   1684\u001b[0m \u001b[38;5;66;03m# print(\"I am here\")\u001b[39;00m\n\u001b[1;32m   1686\u001b[0m \u001b[38;5;28;01mif\u001b[39;00m algorithm_type \u001b[38;5;241m==\u001b[39m \u001b[38;5;124m\"\u001b[39m\u001b[38;5;124mgidnet\u001b[39m\u001b[38;5;124m\"\u001b[39m:\n\u001b[0;32m-> 1687\u001b[0m     qubit_reuse_list \u001b[38;5;241m=\u001b[39m \u001b[43mmodified_compute_qubit_reuse_sets\u001b[49m\u001b[43m(\u001b[49m\u001b[43mcircuit\u001b[49m\u001b[43m,\u001b[49m\u001b[43m \u001b[49m\u001b[43mshots\u001b[49m\u001b[38;5;241;43m=\u001b[39;49m\u001b[43mshots\u001b[49m\u001b[43m,\u001b[49m\u001b[43m \u001b[49m\u001b[43mimproved_gidnet\u001b[49m\u001b[38;5;241;43m=\u001b[39;49m\u001b[43mimproved_gidnet\u001b[49m\u001b[43m,\u001b[49m\u001b[43m \u001b[49m\u001b[43mmaximize_circuit_depth\u001b[49m\u001b[38;5;241;43m=\u001b[39;49m\u001b[43mmaximize_gidnet_depth\u001b[49m\u001b[43m)\u001b[49m\n\u001b[1;32m   1688\u001b[0m \u001b[38;5;28;01melif\u001b[39;00m algorithm_type \u001b[38;5;241m==\u001b[39m \u001b[38;5;124m\"\u001b[39m\u001b[38;5;124mqnet\u001b[39m\u001b[38;5;124m\"\u001b[39m:\n\u001b[1;32m   1689\u001b[0m     qubit_reuse_list \u001b[38;5;241m=\u001b[39m compute_qnet_qubit_reuse_list(qnet_circuit, method\u001b[38;5;241m=\u001b[39mqnet_method, shots\u001b[38;5;241m=\u001b[39mqnet_shots)\n",
      "File \u001b[0;32m~/Projects/Circuit_Cutting_Qubit_Reuse/biclique-qubit-reuse/gidnet_qubit_reuse_algorithm/gidnet_qra.py:1650\u001b[0m, in \u001b[0;36mmodified_compute_qubit_reuse_sets\u001b[0;34m(circuit, shots, improved_gidnet, maximize_circuit_depth)\u001b[0m\n\u001b[1;32m   1646\u001b[0m     qubit_reuse_list \u001b[38;5;241m=\u001b[39m improved_gidnet_qubit_reuse_algorithm(circuit, maximize_circuit_depth)\n\u001b[1;32m   1647\u001b[0m \u001b[38;5;28;01melse\u001b[39;00m:\n\u001b[1;32m   1648\u001b[0m \n\u001b[1;32m   1649\u001b[0m     \u001b[38;5;66;03m# compute the qubit reuse sets using gidnet_qubit_reuse_algorithm\u001b[39;00m\n\u001b[0;32m-> 1650\u001b[0m     qubit_reuse_list \u001b[38;5;241m=\u001b[39m \u001b[43mmodified_gidnet_qubit_reuse_algorithm\u001b[49m\u001b[43m(\u001b[49m\u001b[43mcircuit\u001b[49m\u001b[43m,\u001b[49m\u001b[43m \u001b[49m\u001b[43mshots\u001b[49m\u001b[43m)\u001b[49m\n\u001b[1;32m   1652\u001b[0m \u001b[38;5;28;01mreturn\u001b[39;00m qubit_reuse_list\n",
      "File \u001b[0;32m~/Projects/Circuit_Cutting_Qubit_Reuse/biclique-qubit-reuse/gidnet_qubit_reuse_algorithm/gidnet_qra.py:1555\u001b[0m, in \u001b[0;36mmodified_gidnet_qubit_reuse_algorithm\u001b[0;34m(circuit, shots)\u001b[0m\n\u001b[1;32m   1518\u001b[0m \u001b[38;5;250m\u001b[39m\u001b[38;5;124;03m\"\"\"\u001b[39;00m\n\u001b[1;32m   1519\u001b[0m \u001b[38;5;124;03mComputes qubit reuse sets for a given quantum circuit. The biadjacency matrix, B is the matrix\u001b[39;00m\n\u001b[1;32m   1520\u001b[0m \u001b[38;5;124;03mrepresentation of the biadjacency graph of the quantum circuit. It is compute along side the candidate\u001b[39;00m\n\u001b[0;32m   (...)\u001b[0m\n\u001b[1;32m   1552\u001b[0m \u001b[38;5;124;03m                    of reuse operations, based on the iterative selection and updating process.\u001b[39;00m\n\u001b[1;32m   1553\u001b[0m \u001b[38;5;124;03m\"\"\"\u001b[39;00m\n\u001b[1;32m   1554\u001b[0m \u001b[38;5;66;03m# compute the biadjacency matrix and candidate matrix from the circuit\u001b[39;00m\n\u001b[0;32m-> 1555\u001b[0m main_biadjacency_matrix, main_candidate_matrix \u001b[38;5;241m=\u001b[39m \u001b[43mget_biadjacency_candidate_matrix\u001b[49m\u001b[43m(\u001b[49m\u001b[43mcircuit\u001b[49m\u001b[43m)\u001b[49m\n\u001b[1;32m   1556\u001b[0m \u001b[38;5;66;03m# forward_cone, causal_cone = compute_input_and_output_causal_cones(main_candidate_matrix)\u001b[39;00m\n\u001b[1;32m   1558\u001b[0m n \u001b[38;5;241m=\u001b[39m circuit\u001b[38;5;241m.\u001b[39mnum_qubits\n",
      "File \u001b[0;32m~/Projects/Circuit_Cutting_Qubit_Reuse/biclique-qubit-reuse/gidnet_qubit_reuse_algorithm/gidnet_qra.py:102\u001b[0m, in \u001b[0;36mget_biadjacency_candidate_matrix\u001b[0;34m(static_circuit)\u001b[0m\n\u001b[1;32m     99\u001b[0m circuit\u001b[38;5;241m.\u001b[39mremove_final_measurements() \u001b[38;5;66;03m# remove all circuit final measurements and barriers\u001b[39;00m\n\u001b[1;32m    101\u001b[0m \u001b[38;5;66;03m# convert circuit to qiskit DAG\u001b[39;00m\n\u001b[0;32m--> 102\u001b[0m circ_dag \u001b[38;5;241m=\u001b[39m \u001b[43mcircuit_to_dag\u001b[49m\u001b[43m(\u001b[49m\u001b[43mcircuit\u001b[49m\u001b[43m)\u001b[49m\n\u001b[1;32m    104\u001b[0m graph \u001b[38;5;241m=\u001b[39m to_networkx(circ_dag) \u001b[38;5;66;03m# convert from Qiskit DAG to Networkx DAG\u001b[39;00m\n\u001b[1;32m    105\u001b[0m roots \u001b[38;5;241m=\u001b[39m \u001b[38;5;28mlist\u001b[39m(circ_dag\u001b[38;5;241m.\u001b[39minput_map\u001b[38;5;241m.\u001b[39mvalues())  \u001b[38;5;66;03m# the roots or input nodes of the circuit\u001b[39;00m\n",
      "File \u001b[0;32m~/anaconda3/envs/phd-env/lib/python3.10/site-packages/qiskit/converters/circuit_to_dag.py:92\u001b[0m, in \u001b[0;36mcircuit_to_dag\u001b[0;34m(circuit, copy_operations, qubit_order, clbit_order)\u001b[0m\n\u001b[1;32m     90\u001b[0m     \u001b[38;5;28;01mif\u001b[39;00m copy_operations:\n\u001b[1;32m     91\u001b[0m         op \u001b[38;5;241m=\u001b[39m copy\u001b[38;5;241m.\u001b[39mdeepcopy(op)\n\u001b[0;32m---> 92\u001b[0m     \u001b[43mdagcircuit\u001b[49m\u001b[38;5;241;43m.\u001b[39;49m\u001b[43mapply_operation_back\u001b[49m\u001b[43m(\u001b[49m\u001b[43mop\u001b[49m\u001b[43m,\u001b[49m\u001b[43m \u001b[49m\u001b[43minstruction\u001b[49m\u001b[38;5;241;43m.\u001b[39;49m\u001b[43mqubits\u001b[49m\u001b[43m,\u001b[49m\u001b[43m \u001b[49m\u001b[43minstruction\u001b[49m\u001b[38;5;241;43m.\u001b[39;49m\u001b[43mclbits\u001b[49m\u001b[43m)\u001b[49m\n\u001b[1;32m     94\u001b[0m dagcircuit\u001b[38;5;241m.\u001b[39mduration \u001b[38;5;241m=\u001b[39m circuit\u001b[38;5;241m.\u001b[39mduration\n\u001b[1;32m     95\u001b[0m dagcircuit\u001b[38;5;241m.\u001b[39munit \u001b[38;5;241m=\u001b[39m circuit\u001b[38;5;241m.\u001b[39munit\n",
      "File \u001b[0;32m~/anaconda3/envs/phd-env/lib/python3.10/site-packages/qiskit/dagcircuit/dagcircuit.py:669\u001b[0m, in \u001b[0;36mDAGCircuit.apply_operation_back\u001b[0;34m(self, op, qargs, cargs)\u001b[0m\n\u001b[1;32m    666\u001b[0m \u001b[38;5;28mself\u001b[39m\u001b[38;5;241m.\u001b[39m_check_bits(qargs, \u001b[38;5;28mself\u001b[39m\u001b[38;5;241m.\u001b[39moutput_map)\n\u001b[1;32m    667\u001b[0m \u001b[38;5;28mself\u001b[39m\u001b[38;5;241m.\u001b[39m_check_bits(all_cbits, \u001b[38;5;28mself\u001b[39m\u001b[38;5;241m.\u001b[39moutput_map)\n\u001b[0;32m--> 669\u001b[0m node_index \u001b[38;5;241m=\u001b[39m \u001b[38;5;28;43mself\u001b[39;49m\u001b[38;5;241;43m.\u001b[39;49m\u001b[43m_add_op_node\u001b[49m\u001b[43m(\u001b[49m\u001b[43mop\u001b[49m\u001b[43m,\u001b[49m\u001b[43m \u001b[49m\u001b[43mqargs\u001b[49m\u001b[43m,\u001b[49m\u001b[43m \u001b[49m\u001b[43mcargs\u001b[49m\u001b[43m)\u001b[49m\n\u001b[1;32m    671\u001b[0m \u001b[38;5;66;03m# Add new in-edges from predecessors of the output nodes to the\u001b[39;00m\n\u001b[1;32m    672\u001b[0m \u001b[38;5;66;03m# operation node while deleting the old in-edges of the output nodes\u001b[39;00m\n\u001b[1;32m    673\u001b[0m \u001b[38;5;66;03m# and adding new edges from the operation node to each output node\u001b[39;00m\n\u001b[1;32m    675\u001b[0m al \u001b[38;5;241m=\u001b[39m [qargs, all_cbits]\n",
      "File \u001b[0;32m~/anaconda3/envs/phd-env/lib/python3.10/site-packages/qiskit/dagcircuit/dagcircuit.py:603\u001b[0m, in \u001b[0;36mDAGCircuit._add_op_node\u001b[0;34m(self, op, qargs, cargs)\u001b[0m\n\u001b[1;32m    593\u001b[0m \u001b[38;5;250m\u001b[39m\u001b[38;5;124;03m\"\"\"Add a new operation node to the graph and assign properties.\u001b[39;00m\n\u001b[1;32m    594\u001b[0m \n\u001b[1;32m    595\u001b[0m \u001b[38;5;124;03mArgs:\u001b[39;00m\n\u001b[0;32m   (...)\u001b[0m\n\u001b[1;32m    600\u001b[0m \u001b[38;5;124;03m    int: The integer node index for the new op node on the DAG\u001b[39;00m\n\u001b[1;32m    601\u001b[0m \u001b[38;5;124;03m\"\"\"\u001b[39;00m\n\u001b[1;32m    602\u001b[0m \u001b[38;5;66;03m# Add a new operation node to the graph\u001b[39;00m\n\u001b[0;32m--> 603\u001b[0m new_node \u001b[38;5;241m=\u001b[39m \u001b[43mDAGOpNode\u001b[49m\u001b[43m(\u001b[49m\u001b[43mop\u001b[49m\u001b[38;5;241;43m=\u001b[39;49m\u001b[43mop\u001b[49m\u001b[43m,\u001b[49m\u001b[43m \u001b[49m\u001b[43mqargs\u001b[49m\u001b[38;5;241;43m=\u001b[39;49m\u001b[43mqargs\u001b[49m\u001b[43m,\u001b[49m\u001b[43m \u001b[49m\u001b[43mcargs\u001b[49m\u001b[38;5;241;43m=\u001b[39;49m\u001b[43mcargs\u001b[49m\u001b[43m)\u001b[49m\n\u001b[1;32m    604\u001b[0m node_index \u001b[38;5;241m=\u001b[39m \u001b[38;5;28mself\u001b[39m\u001b[38;5;241m.\u001b[39m_multi_graph\u001b[38;5;241m.\u001b[39madd_node(new_node)\n\u001b[1;32m    605\u001b[0m new_node\u001b[38;5;241m.\u001b[39m_node_id \u001b[38;5;241m=\u001b[39m node_index\n",
      "\u001b[0;31mKeyboardInterrupt\u001b[0m: "
     ]
    }
   ],
   "source": [
    "circuit_sizes = [\"4x4\", \"4x5\", \"5x5\", \"5x6\", \"6x6\", \"6x7\", \"7x7\", \"7x8\", \"8x8\", \"8x9\",\n",
    "                \"9x9\", \"9x10\", \"10x10\", \"10x11\", \"11x11\", \"11x12\", \"12x12\"]\n",
    "\n",
    "directory_path = \"../data\"\n",
    "cycle_num = 10\n",
    "random_shots = 10\n",
    "\n",
    "\n",
    "gidnet_plus_average_time = []\n",
    "gidnet_plus_std_time = []\n",
    "gidnet_plus_qubit_width = []\n",
    "\n",
    "for i, num_qubits in enumerate(circuit_sizes):\n",
    "    print(\"circuit\", i+1, \"running\")\n",
    "    qiskit_circuit, _ = create_qiskit_and_qnet_GRCS_circuits(num_qubits, cycle_num, directory_path)\n",
    "\n",
    "    gidnet_plus_time = %timeit -o modified_compile_dynamic_circuit(qiskit_circuit, shots=random_shots, algorithm_type=\"gidnet\", improved_gidnet=False)\n",
    "\n",
    "    compiled_gidnet_circuit = modified_compile_dynamic_circuit(qiskit_circuit, shots=random_shots, algorithm_type=\"gidnet\",\n",
    "                                                      improved_gidnet=False)\n",
    "\n",
    "    # Data colation\n",
    "    gidnet_plus_average_time.append(gidnet_plus_time.average)\n",
    "    gidnet_plus_std_time.append(gidnet_plus_time.stdev)\n",
    "    gidnet_plus_qubit_width.append(compiled_gidnet_circuit.num_qubits)\n"
   ]
  },
  {
   "cell_type": "code",
   "execution_count": null,
   "id": "16e5282d-624b-4dac-83eb-ff77be9fefe9",
   "metadata": {},
   "outputs": [],
   "source": []
  },
  {
   "cell_type": "code",
   "execution_count": null,
   "id": "9d8a11f1-05bd-427f-8b06-f96f07482453",
   "metadata": {
    "tags": []
   },
   "outputs": [],
   "source": [
    "import pandas as pd\n",
    "# Convert lists to a dictionary\n",
    "data = {\n",
    "    'Circuit Sizes': [safe_eval(s) for s in circuit_sizes],\n",
    "    'GidNET Average Runtime': gidnet_plus_average_time,  # Added comma\n",
    "    'GidNET Stdev Runtime': gidnet_plus_std_time,  # Added comma\n",
    "    'GidNET Width': gidnet_plus_qubit_width,\n",
    "}\n",
    "\n",
    "# Assuming pandas is imported as pd\n",
    "import pandas as pd\n",
    "\n",
    "# Convert dictionary to DataFrame\n",
    "df = pd.DataFrame(data)\n",
    "\n",
    "# Save DataFrame to CSV\n",
    "df.to_csv('data_supremacy_cct/GidNET_v02_width_and_runtime_supremacy_cct_cycle_10_data.csv', index=False)\n"
   ]
  },
  {
   "cell_type": "code",
   "execution_count": null,
   "id": "16c24116-ebaf-48ac-a852-a12ab2d8b106",
   "metadata": {},
   "outputs": [],
   "source": [
    "df"
   ]
  },
  {
   "cell_type": "code",
   "execution_count": null,
   "id": "1146f866-1e00-4293-b375-a34d86dd3cee",
   "metadata": {},
   "outputs": [],
   "source": []
  },
  {
   "cell_type": "code",
   "execution_count": null,
   "id": "d687f194-912d-448c-9877-782a76c522cf",
   "metadata": {},
   "outputs": [],
   "source": []
  },
  {
   "cell_type": "code",
   "execution_count": null,
   "id": "2f66ebf6-7a22-47a0-8237-41b95cbb8203",
   "metadata": {},
   "outputs": [],
   "source": []
  },
  {
   "cell_type": "code",
   "execution_count": null,
   "id": "88eb9644-86c9-4c17-b07f-b62f0beb30f3",
   "metadata": {},
   "outputs": [],
   "source": []
  },
  {
   "cell_type": "code",
   "execution_count": null,
   "id": "76ff6765-b8b7-4cdc-8a2d-5c9b670b6501",
   "metadata": {},
   "outputs": [],
   "source": []
  },
  {
   "cell_type": "code",
   "execution_count": null,
   "id": "7786dd32-e0cb-4f3d-a263-edd17e60aa98",
   "metadata": {},
   "outputs": [],
   "source": []
  }
 ],
 "metadata": {
  "kernelspec": {
   "display_name": "phd-env",
   "language": "python",
   "name": "phd-env"
  },
  "language_info": {
   "codemirror_mode": {
    "name": "ipython",
    "version": 3
   },
   "file_extension": ".py",
   "mimetype": "text/x-python",
   "name": "python",
   "nbconvert_exporter": "python",
   "pygments_lexer": "ipython3",
   "version": "3.10.9"
  }
 },
 "nbformat": 4,
 "nbformat_minor": 5
}
