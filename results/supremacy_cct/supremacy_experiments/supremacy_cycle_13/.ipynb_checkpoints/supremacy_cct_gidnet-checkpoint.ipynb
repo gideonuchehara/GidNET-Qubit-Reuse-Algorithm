{
 "cells": [
  {
   "cell_type": "code",
   "execution_count": null,
   "id": "47d0a271-8e6a-42dd-84ae-fa27a9378175",
   "metadata": {},
   "outputs": [],
   "source": []
  },
  {
   "cell_type": "code",
   "execution_count": 1,
   "id": "6225d96b-94f7-4979-87f1-df4800c40f82",
   "metadata": {
    "tags": []
   },
   "outputs": [],
   "source": [
    "from gidnet_qubit_reuse_algorithm.gidnet_qra import (safe_eval,\n",
    "                                                     create_qiskit_and_qnet_GRCS_circuits,\n",
    "                                                     compute_qubit_reuse_sets, \n",
    "                                                    compile_dynamic_circuit)\n",
    "import time"
   ]
  },
  {
   "cell_type": "code",
   "execution_count": null,
   "id": "65905970-6c4b-4ef8-b737-2ab8c060188c",
   "metadata": {
    "tags": []
   },
   "outputs": [
    {
     "name": "stdout",
     "output_type": "stream",
     "text": [
      "circuit 1 running\n",
      "42.3 ms ± 1.2 ms per loop (mean ± std. dev. of 7 runs, 10 loops each)\n",
      "circuit 2 running\n",
      "67.9 ms ± 2.58 ms per loop (mean ± std. dev. of 7 runs, 10 loops each)\n",
      "circuit 3 running\n",
      "129 ms ± 14.5 ms per loop (mean ± std. dev. of 7 runs, 10 loops each)\n",
      "circuit 4 running\n",
      "195 ms ± 16 ms per loop (mean ± std. dev. of 7 runs, 1 loop each)\n",
      "circuit 5 running\n",
      "302 ms ± 47 ms per loop (mean ± std. dev. of 7 runs, 1 loop each)\n",
      "circuit 6 running\n",
      "466 ms ± 12.4 ms per loop (mean ± std. dev. of 7 runs, 1 loop each)\n",
      "circuit 7 running\n",
      "764 ms ± 16.9 ms per loop (mean ± std. dev. of 7 runs, 1 loop each)\n",
      "circuit 8 running\n",
      "1.35 s ± 49.4 ms per loop (mean ± std. dev. of 7 runs, 1 loop each)\n",
      "circuit 9 running\n",
      "2.19 s ± 36 ms per loop (mean ± std. dev. of 7 runs, 1 loop each)\n",
      "circuit 10 running\n",
      "3.59 s ± 51.7 ms per loop (mean ± std. dev. of 7 runs, 1 loop each)\n",
      "circuit 11 running\n",
      "5.52 s ± 164 ms per loop (mean ± std. dev. of 7 runs, 1 loop each)\n",
      "circuit 12 running\n",
      "8.4 s ± 176 ms per loop (mean ± std. dev. of 7 runs, 1 loop each)\n",
      "circuit 13 running\n",
      "13.2 s ± 186 ms per loop (mean ± std. dev. of 7 runs, 1 loop each)\n",
      "circuit 14 running\n",
      "20.6 s ± 344 ms per loop (mean ± std. dev. of 7 runs, 1 loop each)\n",
      "circuit 15 running\n"
     ]
    }
   ],
   "source": [
    "circuit_sizes = [\"4x4\", \"4x5\", \"5x5\", \"5x6\", \"6x6\", \"6x7\", \"7x7\", \"7x8\", \"8x8\", \"8x9\",\n",
    "                \"9x9\", \"9x10\", \"10x10\", \"10x11\", \"11x11\", \"11x12\", \"12x12\"]\n",
    "\n",
    "directory_path = \"./data\"\n",
    "cycle_num = 13\n",
    "\n",
    "\n",
    "gidnet_plus_average_time = []\n",
    "gidnet_plus_std_time = []\n",
    "gidnet_plus_qubit_width = []\n",
    "\n",
    "for i, num_qubits in enumerate(circuit_sizes):\n",
    "    print(\"circuit\", i+1, \"running\")\n",
    "    qiskit_circuit, _ = create_qiskit_and_qnet_GRCS_circuits(num_qubits, cycle_num, directory_path)\n",
    "\n",
    "    gidnet_plus_time = %timeit -o compile_dynamic_circuit(qiskit_circuit, algorithm_type=\"gidnet\", improved_gidnet=True)\n",
    "\n",
    "    compiled_gidnet_circuit = compile_dynamic_circuit(qiskit_circuit, algorithm_type=\"gidnet\",\n",
    "                                                      improved_gidnet=True)\n",
    "\n",
    "    # Data colation\n",
    "    gidnet_plus_average_time.append(gidnet_plus_time.average)\n",
    "    gidnet_plus_std_time.append(gidnet_plus_time.stdev)\n",
    "    gidnet_plus_qubit_width.append(compiled_gidnet_circuit.num_qubits)\n"
   ]
  },
  {
   "cell_type": "code",
   "execution_count": null,
   "id": "9d8a11f1-05bd-427f-8b06-f96f07482453",
   "metadata": {
    "tags": []
   },
   "outputs": [],
   "source": [
    "import pandas as pd\n",
    "# Convert lists to a dictionary\n",
    "data = {\n",
    "    'Circuit Sizes': [safe_eval(s) for s in circuit_sizes],\n",
    "    'GidNET Average Runtime': gidnet_plus_average_time,  # Added comma\n",
    "    'GidNET Stdev Runtime': gidnet_plus_std_time,  # Added comma\n",
    "    'GidNET Width': gidnet_plus_qubit_width,\n",
    "}\n",
    "\n",
    "# Assuming pandas is imported as pd\n",
    "import pandas as pd\n",
    "\n",
    "# Convert dictionary to DataFrame\n",
    "df = pd.DataFrame(data)\n",
    "\n",
    "# Save DataFrame to CSV\n",
    "df.to_csv('data_supremacy_cct/GidNET_width_and_runtime_supremacy_cct_data.csv', index=False)\n"
   ]
  },
  {
   "cell_type": "code",
   "execution_count": null,
   "id": "16c24116-ebaf-48ac-a852-a12ab2d8b106",
   "metadata": {},
   "outputs": [],
   "source": [
    "df"
   ]
  },
  {
   "cell_type": "code",
   "execution_count": null,
   "id": "1146f866-1e00-4293-b375-a34d86dd3cee",
   "metadata": {},
   "outputs": [],
   "source": []
  },
  {
   "cell_type": "code",
   "execution_count": null,
   "id": "d687f194-912d-448c-9877-782a76c522cf",
   "metadata": {},
   "outputs": [],
   "source": []
  },
  {
   "cell_type": "code",
   "execution_count": null,
   "id": "2f66ebf6-7a22-47a0-8237-41b95cbb8203",
   "metadata": {},
   "outputs": [],
   "source": []
  },
  {
   "cell_type": "code",
   "execution_count": null,
   "id": "88eb9644-86c9-4c17-b07f-b62f0beb30f3",
   "metadata": {},
   "outputs": [],
   "source": []
  },
  {
   "cell_type": "code",
   "execution_count": null,
   "id": "76ff6765-b8b7-4cdc-8a2d-5c9b670b6501",
   "metadata": {},
   "outputs": [],
   "source": []
  },
  {
   "cell_type": "code",
   "execution_count": null,
   "id": "7786dd32-e0cb-4f3d-a263-edd17e60aa98",
   "metadata": {},
   "outputs": [],
   "source": []
  }
 ],
 "metadata": {
  "kernelspec": {
   "display_name": "phd-env",
   "language": "python",
   "name": "phd-env"
  },
  "language_info": {
   "codemirror_mode": {
    "name": "ipython",
    "version": 3
   },
   "file_extension": ".py",
   "mimetype": "text/x-python",
   "name": "python",
   "nbconvert_exporter": "python",
   "pygments_lexer": "ipython3",
   "version": "3.10.9"
  }
 },
 "nbformat": 4,
 "nbformat_minor": 5
}
