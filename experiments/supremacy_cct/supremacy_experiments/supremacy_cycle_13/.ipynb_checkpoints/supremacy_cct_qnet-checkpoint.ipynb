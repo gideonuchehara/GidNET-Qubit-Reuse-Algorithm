{
 "cells": [
  {
   "cell_type": "code",
   "execution_count": null,
   "id": "47d0a271-8e6a-42dd-84ae-fa27a9378175",
   "metadata": {},
   "outputs": [],
   "source": []
  },
  {
   "cell_type": "code",
   "execution_count": 1,
   "id": "c0da6d99-9fb3-4b96-a083-f91c5abd739f",
   "metadata": {
    "tags": []
   },
   "outputs": [],
   "source": [
    "from gidnet_qubit_reuse_algorithm.gidnet_qra import (safe_eval,\n",
    "                                                     create_qiskit_and_qnet_GRCS_circuits,\n",
    "                                                     compute_qubit_reuse_sets, \n",
    "                                                    compile_dynamic_circuit)\n",
    "import time"
   ]
  },
  {
   "cell_type": "code",
   "execution_count": null,
   "id": "65905970-6c4b-4ef8-b737-2ab8c060188c",
   "metadata": {
    "tags": []
   },
   "outputs": [
    {
     "name": "stdout",
     "output_type": "stream",
     "text": [
      "circuit 1 running\n",
      "138 ms ± 4.07 ms per loop (mean ± std. dev. of 7 runs, 10 loops each)\n",
      "circuit 2 running\n",
      "368 ms ± 15.1 ms per loop (mean ± std. dev. of 7 runs, 1 loop each)\n",
      "circuit 3 running\n",
      "1.24 s ± 52.1 ms per loop (mean ± std. dev. of 7 runs, 1 loop each)\n",
      "circuit 4 running\n",
      "3.1 s ± 64.2 ms per loop (mean ± std. dev. of 7 runs, 1 loop each)\n",
      "circuit 5 running\n",
      "7.58 s ± 326 ms per loop (mean ± std. dev. of 7 runs, 1 loop each)\n",
      "circuit 6 running\n",
      "17.8 s ± 737 ms per loop (mean ± std. dev. of 7 runs, 1 loop each)\n",
      "circuit 7 running\n",
      "36.7 s ± 1.22 s per loop (mean ± std. dev. of 7 runs, 1 loop each)\n",
      "circuit 8 running\n",
      "1min 18s ± 7.09 s per loop (mean ± std. dev. of 7 runs, 1 loop each)\n",
      "circuit 9 running\n",
      "2min 6s ± 2 s per loop (mean ± std. dev. of 7 runs, 1 loop each)\n",
      "circuit 10 running\n"
     ]
    }
   ],
   "source": [
    "circuit_sizes = [\"4x4\", \"4x5\", \"5x5\", \"5x6\", \"6x6\", \"6x7\", \"7x7\", \"7x8\", \"8x8\", \"8x9\",\n",
    "                \"9x9\", \"9x10\", \"10x10\", \"10x11\", \"11x11\", \"11x12\", \"12x12\"]\n",
    "random_shots = 10 # shots for qnet algorithm\n",
    "\n",
    "directory_path = \"./data\"\n",
    "cycle_num = 13\n",
    "\n",
    "qnet_average_time = []\n",
    "qnet_std_time = []\n",
    "qnet_qubit_width = []\n",
    "\n",
    "for i, num_qubits in enumerate(circuit_sizes):\n",
    "    print(\"circuit\", i+1, \"running\")\n",
    "    qiskit_circuit, qnet_circuit = create_qiskit_and_qnet_GRCS_circuits(num_qubits, cycle_num, directory_path)\n",
    "    qnet_time = %timeit -o compile_dynamic_circuit(qiskit_circuit, qnet_circuit=qnet_circuit, algorithm_type=\"qnet\", qnet_method=\"random\", qnet_shots=random_shots)\n",
    "    compiled_qnet_circuit = compile_dynamic_circuit(qiskit_circuit, qnet_circuit=qnet_circuit, algorithm_type=\"qnet\", qnet_method=\"random\", qnet_shots=random_shots)\n",
    "\n",
    "\n",
    "    qnet_average_time.append(qnet_time.average)\n",
    "    qnet_std_time.append(qnet_time.stdev)\n",
    "    qnet_qubit_width.append(compiled_qnet_circuit.num_qubits)\n"
   ]
  },
  {
   "cell_type": "code",
   "execution_count": null,
   "id": "25a4e1e9-4805-4873-8c38-593a74a236d1",
   "metadata": {
    "tags": []
   },
   "outputs": [],
   "source": [
    "import pandas as pd\n",
    "# Convert lists to a dictionary\n",
    "data = {\n",
    "    'Circuit Sizes': [safe_eval(s) for s in circuit_sizes],\n",
    "    'QNET-random Average Runtime': qnet_average_time,  # Added comma\n",
    "    'QNET-random Stdev Runtime': qnet_std_time,  # Added comma\n",
    "    'QNET-random Width': qnet_qubit_width\n",
    "}\n",
    "\n",
    "# Assuming pandas is imported as pd\n",
    "import pandas as pd\n",
    "\n",
    "# Convert dictionary to DataFrame\n",
    "df = pd.DataFrame(data)\n",
    "\n",
    "# Save DataFrame to CSV\n",
    "df.to_csv('data_supremacy_cct/QNET_width_and_runtime_supremacy_cct_data.csv', index=False)\n"
   ]
  },
  {
   "cell_type": "code",
   "execution_count": null,
   "id": "e48fc406-fc99-40d6-9a58-bb77271da6f2",
   "metadata": {
    "tags": []
   },
   "outputs": [],
   "source": [
    "df"
   ]
  },
  {
   "cell_type": "code",
   "execution_count": null,
   "id": "1146f866-1e00-4293-b375-a34d86dd3cee",
   "metadata": {},
   "outputs": [],
   "source": []
  },
  {
   "cell_type": "code",
   "execution_count": null,
   "id": "d687f194-912d-448c-9877-782a76c522cf",
   "metadata": {},
   "outputs": [],
   "source": []
  },
  {
   "cell_type": "code",
   "execution_count": null,
   "id": "2f66ebf6-7a22-47a0-8237-41b95cbb8203",
   "metadata": {},
   "outputs": [],
   "source": []
  },
  {
   "cell_type": "code",
   "execution_count": null,
   "id": "0bb50fa5-7e9c-4787-b4c8-239104ceb5ad",
   "metadata": {},
   "outputs": [],
   "source": []
  },
  {
   "cell_type": "code",
   "execution_count": null,
   "id": "76ff6765-b8b7-4cdc-8a2d-5c9b670b6501",
   "metadata": {},
   "outputs": [],
   "source": []
  },
  {
   "cell_type": "code",
   "execution_count": null,
   "id": "7786dd32-e0cb-4f3d-a263-edd17e60aa98",
   "metadata": {},
   "outputs": [],
   "source": []
  },
  {
   "cell_type": "code",
   "execution_count": null,
   "id": "3c362d1d-97b4-4c48-9100-e83e9263d174",
   "metadata": {},
   "outputs": [],
   "source": []
  }
 ],
 "metadata": {
  "kernelspec": {
   "display_name": "phd-env",
   "language": "python",
   "name": "phd-env"
  },
  "language_info": {
   "codemirror_mode": {
    "name": "ipython",
    "version": 3
   },
   "file_extension": ".py",
   "mimetype": "text/x-python",
   "name": "python",
   "nbconvert_exporter": "python",
   "pygments_lexer": "ipython3",
   "version": "3.10.9"
  }
 },
 "nbformat": 4,
 "nbformat_minor": 5
}
