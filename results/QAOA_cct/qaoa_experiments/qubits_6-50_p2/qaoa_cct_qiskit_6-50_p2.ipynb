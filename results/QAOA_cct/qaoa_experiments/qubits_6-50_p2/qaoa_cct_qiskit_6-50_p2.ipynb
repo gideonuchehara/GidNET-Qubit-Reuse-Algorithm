{
 "cells": [
  {
   "cell_type": "code",
   "execution_count": null,
   "id": "47d0a271-8e6a-42dd-84ae-fa27a9378175",
   "metadata": {},
   "outputs": [],
   "source": []
  },
  {
   "cell_type": "code",
   "execution_count": 1,
   "id": "f611e0c0-5e15-46bd-aaa6-5060361a525f",
   "metadata": {
    "tags": []
   },
   "outputs": [],
   "source": [
    "from gidnet_qubit_reuse_algorithm.gidnet_qra import apply_qiskit_qubit_reuse, create_qiskit_and_qnet_QAOA_circuits\n",
    "import time"
   ]
  },
  {
   "cell_type": "code",
   "execution_count": null,
   "id": "890dab60-e5e6-4c45-8ba8-8ec9d122ff23",
   "metadata": {
    "tags": []
   },
   "outputs": [
    {
     "name": "stdout",
     "output_type": "stream",
     "text": [
      "circuit 1 running\n",
      "2.94 s ± 69 ms per loop (mean ± std. dev. of 7 runs, 1 loop each)\n",
      "2.93 s ± 286 ms per loop (mean ± std. dev. of 7 runs, 1 loop each)\n",
      "1min 17s ± 2.94 s per loop (mean ± std. dev. of 7 runs, 1 loop each)\n",
      "2.45 s ± 65.6 ms per loop (mean ± std. dev. of 7 runs, 1 loop each)\n",
      "2.46 s ± 45.8 ms per loop (mean ± std. dev. of 7 runs, 1 loop each)\n",
      "58.6 s ± 1.81 s per loop (mean ± std. dev. of 7 runs, 1 loop each)\n",
      "18.8 s ± 693 ms per loop (mean ± std. dev. of 7 runs, 1 loop each)\n",
      "1min 27s ± 2.79 s per loop (mean ± std. dev. of 7 runs, 1 loop each)\n",
      "2.35 s ± 32.1 ms per loop (mean ± std. dev. of 7 runs, 1 loop each)\n",
      "2.2 s ± 96.6 ms per loop (mean ± std. dev. of 7 runs, 1 loop each)\n",
      "5.46 s ± 35.3 ms per loop (mean ± std. dev. of 7 runs, 1 loop each)\n",
      "26.2 s ± 1.32 s per loop (mean ± std. dev. of 7 runs, 1 loop each)\n",
      "8.88 s ± 642 ms per loop (mean ± std. dev. of 7 runs, 1 loop each)\n",
      "10.7 s ± 536 ms per loop (mean ± std. dev. of 7 runs, 1 loop each)\n",
      "6.07 s ± 185 ms per loop (mean ± std. dev. of 7 runs, 1 loop each)\n",
      "25.6 s ± 473 ms per loop (mean ± std. dev. of 7 runs, 1 loop each)\n",
      "2.21 s ± 35.8 ms per loop (mean ± std. dev. of 7 runs, 1 loop each)\n",
      "15.8 s ± 216 ms per loop (mean ± std. dev. of 7 runs, 1 loop each)\n",
      "27.1 s ± 667 ms per loop (mean ± std. dev. of 7 runs, 1 loop each)\n",
      "16.8 s ± 558 ms per loop (mean ± std. dev. of 7 runs, 1 loop each)\n",
      "circuit 2 running\n",
      "11 s ± 404 ms per loop (mean ± std. dev. of 7 runs, 1 loop each)\n",
      "1min 7s ± 3.23 s per loop (mean ± std. dev. of 7 runs, 1 loop each)\n",
      "30min 36s ± 23.9 s per loop (mean ± std. dev. of 7 runs, 1 loop each)\n",
      "56.9 s ± 1.14 s per loop (mean ± std. dev. of 7 runs, 1 loop each)\n",
      "3min 6s ± 4.09 s per loop (mean ± std. dev. of 7 runs, 1 loop each)\n",
      "4min 44s ± 5.68 s per loop (mean ± std. dev. of 7 runs, 1 loop each)\n",
      "1min 58s ± 1.07 s per loop (mean ± std. dev. of 7 runs, 1 loop each)\n",
      "8min 50s ± 6.08 s per loop (mean ± std. dev. of 7 runs, 1 loop each)\n",
      "10min 10s ± 3.6 s per loop (mean ± std. dev. of 7 runs, 1 loop each)\n",
      "20.4 s ± 290 ms per loop (mean ± std. dev. of 7 runs, 1 loop each)\n",
      "1min 13s ± 751 ms per loop (mean ± std. dev. of 7 runs, 1 loop each)\n",
      "1min 11s ± 1.27 s per loop (mean ± std. dev. of 7 runs, 1 loop each)\n",
      "1min 9s ± 401 ms per loop (mean ± std. dev. of 7 runs, 1 loop each)\n",
      "21.9 s ± 141 ms per loop (mean ± std. dev. of 7 runs, 1 loop each)\n",
      "21.9 s ± 587 ms per loop (mean ± std. dev. of 7 runs, 1 loop each)\n",
      "2min 17s ± 818 ms per loop (mean ± std. dev. of 7 runs, 1 loop each)\n",
      "4min 31s ± 1.19 s per loop (mean ± std. dev. of 7 runs, 1 loop each)\n",
      "32.3 s ± 260 ms per loop (mean ± std. dev. of 7 runs, 1 loop each)\n",
      "20.6 s ± 117 ms per loop (mean ± std. dev. of 7 runs, 1 loop each)\n",
      "44.8 s ± 317 ms per loop (mean ± std. dev. of 7 runs, 1 loop each)\n",
      "circuit 3 running\n",
      "3min 36s ± 945 ms per loop (mean ± std. dev. of 7 runs, 1 loop each)\n",
      "21.2 s ± 192 ms per loop (mean ± std. dev. of 7 runs, 1 loop each)\n",
      "2h 27min ± 2min 1s per loop (mean ± std. dev. of 7 runs, 1 loop each)\n",
      "13min 31s ± 7.87 s per loop (mean ± std. dev. of 7 runs, 1 loop each)\n",
      "2min 25s ± 760 ms per loop (mean ± std. dev. of 7 runs, 1 loop each)\n",
      "1h 8min 13s ± 1min 19s per loop (mean ± std. dev. of 7 runs, 1 loop each)\n",
      "4min 18s ± 6.05 s per loop (mean ± std. dev. of 7 runs, 1 loop each)\n",
      "1min 19s ± 1.55 s per loop (mean ± std. dev. of 7 runs, 1 loop each)\n",
      "22.7 s ± 555 ms per loop (mean ± std. dev. of 7 runs, 1 loop each)\n",
      "7min 40s ± 15.4 s per loop (mean ± std. dev. of 7 runs, 1 loop each)\n",
      "3min 58s ± 1.18 s per loop (mean ± std. dev. of 7 runs, 1 loop each)\n",
      "2min 8s ± 2.2 s per loop (mean ± std. dev. of 7 runs, 1 loop each)\n",
      "2min 47s ± 1.9 s per loop (mean ± std. dev. of 7 runs, 1 loop each)\n",
      "2min 45s ± 3.78 s per loop (mean ± std. dev. of 7 runs, 1 loop each)\n",
      "1min 1s ± 382 ms per loop (mean ± std. dev. of 7 runs, 1 loop each)\n",
      "9min 16s ± 11.2 s per loop (mean ± std. dev. of 7 runs, 1 loop each)\n",
      "1min 16s ± 895 ms per loop (mean ± std. dev. of 7 runs, 1 loop each)\n",
      "12min 52s ± 20 s per loop (mean ± std. dev. of 7 runs, 1 loop each)\n",
      "30.4 s ± 899 ms per loop (mean ± std. dev. of 7 runs, 1 loop each)\n",
      "1min 33s ± 3.05 s per loop (mean ± std. dev. of 7 runs, 1 loop each)\n",
      "circuit 4 running\n",
      "1min 58s ± 4.99 s per loop (mean ± std. dev. of 7 runs, 1 loop each)\n",
      "2h 23min 52s ± 3min 44s per loop (mean ± std. dev. of 7 runs, 1 loop each)\n",
      "50min 51s ± 1min 36s per loop (mean ± std. dev. of 7 runs, 1 loop each)\n",
      "39min 18s ± 1min 7s per loop (mean ± std. dev. of 7 runs, 1 loop each)\n",
      "3min 32s ± 12.9 s per loop (mean ± std. dev. of 7 runs, 1 loop each)\n",
      "2h 5min 24s ± 5min 45s per loop (mean ± std. dev. of 7 runs, 1 loop each)\n",
      "3min 25s ± 8.23 s per loop (mean ± std. dev. of 7 runs, 1 loop each)\n",
      "5h 6min 50s ± 8min 40s per loop (mean ± std. dev. of 7 runs, 1 loop each)\n",
      "23min 14s ± 1min 20s per loop (mean ± std. dev. of 7 runs, 1 loop each)\n",
      "16min 38s ± 26.9 s per loop (mean ± std. dev. of 7 runs, 1 loop each)\n",
      "25min 25s ± 9.61 s per loop (mean ± std. dev. of 7 runs, 1 loop each)\n",
      "9min 57s ± 8.75 s per loop (mean ± std. dev. of 7 runs, 1 loop each)\n",
      "11min 30s ± 6.41 s per loop (mean ± std. dev. of 7 runs, 1 loop each)\n",
      "5min 28s ± 6.12 s per loop (mean ± std. dev. of 7 runs, 1 loop each)\n",
      "8min 18s ± 23.6 s per loop (mean ± std. dev. of 7 runs, 1 loop each)\n",
      "6min 9s ± 16.3 s per loop (mean ± std. dev. of 7 runs, 1 loop each)\n",
      "1min 33s ± 704 ms per loop (mean ± std. dev. of 7 runs, 1 loop each)\n",
      "12min 41s ± 16.9 s per loop (mean ± std. dev. of 7 runs, 1 loop each)\n",
      "1min 5s ± 1.13 s per loop (mean ± std. dev. of 7 runs, 1 loop each)\n",
      "22min 31s ± 29.4 s per loop (mean ± std. dev. of 7 runs, 1 loop each)\n",
      "circuit 5 running\n",
      "6min 2s ± 16.5 s per loop (mean ± std. dev. of 7 runs, 1 loop each)\n",
      "49.9 s ± 750 ms per loop (mean ± std. dev. of 7 runs, 1 loop each)\n",
      "13min 10s ± 14.3 s per loop (mean ± std. dev. of 7 runs, 1 loop each)\n",
      "1h 11min 44s ± 3min 12s per loop (mean ± std. dev. of 7 runs, 1 loop each)\n",
      "2min 51s ± 3.95 s per loop (mean ± std. dev. of 7 runs, 1 loop each)\n",
      "15min 51s ± 58.7 s per loop (mean ± std. dev. of 7 runs, 1 loop each)\n",
      "12min 30s ± 13.2 s per loop (mean ± std. dev. of 7 runs, 1 loop each)\n",
      "1h 26min 1s ± 3min 41s per loop (mean ± std. dev. of 7 runs, 1 loop each)\n",
      "2min 29s ± 1.37 s per loop (mean ± std. dev. of 7 runs, 1 loop each)\n",
      "5min 23s ± 3.54 s per loop (mean ± std. dev. of 7 runs, 1 loop each)\n"
     ]
    }
   ],
   "source": [
    "circuit_sizes = [6, 10, 14, 18, 22, 26, 30, 34, 38, 42, 46, 50]\n",
    "\n",
    "qiskit_average_time = []\n",
    "qiskit_std_time = []\n",
    "qiskit_average_qubit_width = []\n",
    "\n",
    "\n",
    "\n",
    "# Set the number of random graph for each qubit number\n",
    "seed_num = 20 # this should be set to 20\n",
    "\n",
    "# Set the number of QAOA unitary layers\n",
    "layer_num = 2\n",
    "\n",
    "for i, q in enumerate(circuit_sizes):\n",
    "    print(\"circuit\", i+1, \"running\")\n",
    "    # create temporary data holders for intermediate results\n",
    "    tmp_qiskit_average_time = []\n",
    "    tmp_qiskit_std_time = []\n",
    "    tmp_qiskit_qubit_width = []\n",
    "    \n",
    "    qiskit_circuits, _ = create_qiskit_and_qnet_QAOA_circuits(q, seed_num, layer_num)\n",
    "\n",
    "    for circuit in qiskit_circuits:\n",
    "        qiskit_time = %timeit -o apply_qiskit_qubit_reuse(circuit)\n",
    "        compiled_qiskit_circuit = apply_qiskit_qubit_reuse(circuit)\n",
    "\n",
    "        tmp_qiskit_average_time.append(qiskit_time.average)\n",
    "        tmp_qiskit_std_time.append(qiskit_time.stdev)\n",
    "        tmp_qiskit_qubit_width.append(compiled_qiskit_circuit.num_qubits)\n",
    "\n",
    "    # Data colation\n",
    "    import numpy as np\n",
    "    qiskit_average_time.append(tmp_qiskit_average_time)\n",
    "    qiskit_std_time.append(tmp_qiskit_std_time)\n",
    "    qiskit_average_qubit_width.append(tmp_qiskit_qubit_width)\n",
    "        \n"
   ]
  },
  {
   "cell_type": "code",
   "execution_count": null,
   "id": "25a4e1e9-4805-4873-8c38-593a74a236d1",
   "metadata": {
    "tags": []
   },
   "outputs": [],
   "source": [
    "import pandas as pd\n",
    "# Convert lists to a dictionary\n",
    "data = {\n",
    "    'Circuit Sizes': circuit_sizes,\n",
    "    'Qiskit Average Runtime': qiskit_average_time,  # Added comma\n",
    "    'Qiskit Stdev Runtime': qiskit_std_time,  # Added comma\n",
    "    'Qiskit Width': qiskit_average_qubit_width,\n",
    "}\n",
    "\n",
    "# Assuming pandas is imported as pd\n",
    "import pandas as pd\n",
    "\n",
    "# Convert dictionary to DataFrame\n",
    "df = pd.DataFrame(data)\n",
    "\n",
    "# Save DataFrame to CSV\n",
    "df.to_csv('data_qaoa_cct/Qiskit_width_and_runtime_qaoa_p2_data_complete.csv', index=False)\n"
   ]
  },
  {
   "cell_type": "code",
   "execution_count": null,
   "id": "5bba8cd4-8aa1-4b1e-8c9d-a450aa740124",
   "metadata": {
    "tags": []
   },
   "outputs": [],
   "source": [
    "df"
   ]
  },
  {
   "cell_type": "code",
   "execution_count": null,
   "id": "206ff195-7597-4c13-ba36-706c21137538",
   "metadata": {},
   "outputs": [],
   "source": []
  },
  {
   "cell_type": "code",
   "execution_count": null,
   "id": "e3f4d5c0-dcf3-4a70-94d2-56808aa75115",
   "metadata": {},
   "outputs": [],
   "source": []
  },
  {
   "cell_type": "code",
   "execution_count": null,
   "id": "67fe7459-1fe4-4358-8056-3cd486d3ae24",
   "metadata": {},
   "outputs": [],
   "source": []
  },
  {
   "cell_type": "code",
   "execution_count": null,
   "id": "59b153c2-f0af-4812-9b1b-83012c130751",
   "metadata": {},
   "outputs": [],
   "source": []
  }
 ],
 "metadata": {
  "kernelspec": {
   "display_name": "phd-env",
   "language": "python",
   "name": "phd-env"
  },
  "language_info": {
   "codemirror_mode": {
    "name": "ipython",
    "version": 3
   },
   "file_extension": ".py",
   "mimetype": "text/x-python",
   "name": "python",
   "nbconvert_exporter": "python",
   "pygments_lexer": "ipython3",
   "version": "3.10.9"
  }
 },
 "nbformat": 4,
 "nbformat_minor": 5
}
